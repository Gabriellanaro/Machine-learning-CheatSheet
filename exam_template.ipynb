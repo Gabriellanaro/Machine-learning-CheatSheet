{
 "cells": [
  {
   "cell_type": "code",
   "execution_count": 1,
   "metadata": {},
   "outputs": [
    {
     "name": "stderr",
     "output_type": "stream",
     "text": [
      "c:\\Users\\Dell\\Desktop\\Git Hub\\Machine-learning-CheatSheet\\toolbox_02450.py:98: SyntaxWarning: \"is\" with a literal. Did you mean \"==\"?\n",
      "  if display is 'verbose':\n",
      "c:\\Users\\Dell\\Desktop\\Git Hub\\Machine-learning-CheatSheet\\toolbox_02450.py:106: SyntaxWarning: \"is\" with a literal. Did you mean \"==\"?\n",
      "  if display is 'verbose':\n"
     ]
    }
   ],
   "source": [
    "import exam_functions as ef\n",
    "import exam_toolbox as et\n",
    "import numpy as np"
   ]
  },
  {
   "cell_type": "code",
   "execution_count": 20,
   "metadata": {},
   "outputs": [
    {
     "data": {
      "text/plain": [
       "0.37879999999999997"
      ]
     },
     "execution_count": 20,
     "metadata": {},
     "output_type": "execute_result"
    }
   ],
   "source": [
    "x = np.array([15.5, 59.2, 1.4, 1438, 5.3])\n",
    "mu = np.array([12.9, 58.2, 1.7, 1436.8, 4.1])\n",
    "x = x - mu\n",
    "# print(x)\n",
    "V = np.matrix(\n",
    "    [\n",
    "        [0.11, 0.8, 0.3, 0.17, 0.48],\n",
    "        [0.58, 0.31, 0.01, 0.5, 0.56],\n",
    "        [0.49, 0.08, 0.49, 0.72, 0.07],\n",
    "        [0.6, 0.36, 0.04, 0.27, 0.66],\n",
    "        [0.23, 0.36, 0.82, 0.37, 0.09],\n",
    "    ]\n",
    ")\n",
    "\n",
    "vet = x @ V\n",
    "np.mean(V)"
   ]
  },
  {
   "cell_type": "code",
   "execution_count": 17,
   "metadata": {},
   "outputs": [],
   "source": [
    "def calculate_b(x, V, mu):\n",
    "    # Centrare il vettore x rispetto alla media mu\n",
    "    x_centered = x - mu\n",
    "\n",
    "    # Proiezione di x nello spazio delle componenti principali\n",
    "    projection = x_centered @ V\n",
    "\n",
    "    # Calcolo delle vere coordinate b normalizzando la proiezione\n",
    "    # rispetto alle deviazioni standard delle componenti principali\n",
    "    b = projection / np.sqrt(np.sum(V**2, axis=0))  # Normalizzazione\n",
    "\n",
    "    return b"
   ]
  },
  {
   "cell_type": "code",
   "execution_count": 18,
   "metadata": {},
   "outputs": [
    {
     "data": {
      "text/plain": [
       "array([1.7137152 , 3.227258  , 1.67149354, 1.48872438, 2.69699742])"
      ]
     },
     "execution_count": 18,
     "metadata": {},
     "output_type": "execute_result"
    }
   ],
   "source": [
    "calculate_b(x, V, mu)"
   ]
  }
 ],
 "metadata": {
  "kernelspec": {
   "display_name": "Python 3",
   "language": "python",
   "name": "python3"
  },
  "language_info": {
   "codemirror_mode": {
    "name": "ipython",
    "version": 3
   },
   "file_extension": ".py",
   "mimetype": "text/x-python",
   "name": "python",
   "nbconvert_exporter": "python",
   "pygments_lexer": "ipython3",
   "version": "3.11.6"
  }
 },
 "nbformat": 4,
 "nbformat_minor": 2
}
