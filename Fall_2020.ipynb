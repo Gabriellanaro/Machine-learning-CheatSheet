{
 "cells": [
  {
   "cell_type": "code",
   "execution_count": 52,
   "metadata": {},
   "outputs": [],
   "source": [
    "from exam_functions import *\n",
    "import exam_toolbox as et\n",
    "import numpy as np\n",
    "from sklearn.decomposition import PCA\n",
    "import warnings\n",
    "\n",
    "# Ignora i FutureWarning e RuntimeWarning\n",
    "warnings.filterwarnings(\"ignore\", category=FutureWarning)\n",
    "warnings.filterwarnings(\"ignore\", category=RuntimeWarning)\n",
    "\n",
    "# Il resto del tuo codice qui"
   ]
  },
  {
   "cell_type": "code",
   "execution_count": 2,
   "metadata": {},
   "outputs": [],
   "source": [
    "# 1"
   ]
  },
  {
   "cell_type": "code",
   "execution_count": 2,
   "metadata": {},
   "outputs": [
    {
     "data": {
      "image/png": "[encoded data removed]",
      "text/plain": [
       "<Figure size 640x480 with 1 Axes>"
      ]
     },
     "metadata": {},
     "output_type": "display_data"
    },
    {
     "name": "stdout",
     "output_type": "stream",
     "text": [
      "     k  var_explained\n",
      "0  1.0       0.548698\n",
      "1  2.0       0.722595\n",
      "2  3.0       0.849797\n",
      "3  4.0       0.951076\n",
      "4  5.0       0.987957\n",
      "5  6.0       1.000000\n"
     ]
    },
    {
     "data": {
      "text/html": [
       "<div>\n",
       "<style scoped>\n",
       "    .dataframe tbody tr th:only-of-type {\n",
       "        vertical-align: middle;\n",
       "    }\n",
       "\n",
       "    .dataframe tbody tr th {\n",
       "        vertical-align: top;\n",
       "    }\n",
       "\n",
       "    .dataframe thead th {\n",
       "        text-align: right;\n",
       "    }\n",
       "</style>\n",
       "<table border=\"1\" class=\"dataframe\">\n",
       "  <thead>\n",
       "    <tr style=\"text-align: right;\">\n",
       "      <th></th>\n",
       "      <th>k</th>\n",
       "      <th>var_explained</th>\n",
       "    </tr>\n",
       "  </thead>\n",
       "  <tbody>\n",
       "    <tr>\n",
       "      <th>0</th>\n",
       "      <td>1.0</td>\n",
       "      <td>0.548698</td>\n",
       "    </tr>\n",
       "    <tr>\n",
       "      <th>1</th>\n",
       "      <td>2.0</td>\n",
       "      <td>0.722595</td>\n",
       "    </tr>\n",
       "    <tr>\n",
       "      <th>2</th>\n",
       "      <td>3.0</td>\n",
       "      <td>0.849797</td>\n",
       "    </tr>\n",
       "    <tr>\n",
       "      <th>3</th>\n",
       "      <td>4.0</td>\n",
       "      <td>0.951076</td>\n",
       "    </tr>\n",
       "    <tr>\n",
       "      <th>4</th>\n",
       "      <td>5.0</td>\n",
       "      <td>0.987957</td>\n",
       "    </tr>\n",
       "    <tr>\n",
       "      <th>5</th>\n",
       "      <td>6.0</td>\n",
       "      <td>1.000000</td>\n",
       "    </tr>\n",
       "  </tbody>\n",
       "</table>\n",
       "</div>"
      ],
      "text/plain": [
       "     k  var_explained\n",
       "0  1.0       0.548698\n",
       "1  2.0       0.722595\n",
       "2  3.0       0.849797\n",
       "3  4.0       0.951076\n",
       "4  5.0       0.987957\n",
       "5  6.0       1.000000"
      ]
     },
     "execution_count": 2,
     "metadata": {},
     "output_type": "execute_result"
    }
   ],
   "source": [
    "# 2\n",
    "cum_var_explained([13.5, 7.6, 6.5, 5.8, 3.5, 2])"
   ]
  },
  {
   "cell_type": "code",
   "execution_count": 7,
   "metadata": {},
   "outputs": [
    {
     "data": {
      "text/plain": [
       "array([ 0.652, -0.512])"
      ]
     },
     "execution_count": 7,
     "metadata": {},
     "output_type": "execute_result"
    }
   ],
   "source": [
    "# ,3\n",
    "\n",
    "x = np.array([-0.1, 0.2, 0.1, -0.3, 1, 0.5])\n",
    "V = np.array(\n",
    "    [\n",
    "        [0.38, -0.51, 0.23, 0.47, -0.55, 0.11],\n",
    "        [0.41, 0.41, -0.53, 0.24, 0.00, 0.58],\n",
    "        [0.50, 0.34, -0.13, 0.15, -0.05, -0.77],\n",
    "        [0.29, 0.48, 0.78, -0.17, 0.00, 0.23],\n",
    "        [0.45, -0.42, 0.09, 0.03, 0.78, 0.04],\n",
    "        [0.39, -0.23, -0.20, -0.82, -0.30, 0.04],\n",
    "    ]\n",
    ")\n",
    "\n",
    "x.T @ V[:, :2]"
   ]
  },
  {
   "cell_type": "code",
   "execution_count": 5,
   "metadata": {},
   "outputs": [],
   "source": [
    "# 4"
   ]
  },
  {
   "cell_type": "code",
   "execution_count": 6,
   "metadata": {},
   "outputs": [],
   "source": [
    "# 5"
   ]
  },
  {
   "cell_type": "code",
   "execution_count": 7,
   "metadata": {},
   "outputs": [],
   "source": [
    "# 6"
   ]
  },
  {
   "cell_type": "code",
   "execution_count": 8,
   "metadata": {},
   "outputs": [],
   "source": [
    "# 7"
   ]
  },
  {
   "cell_type": "code",
   "execution_count": 9,
   "metadata": {},
   "outputs": [],
   "source": [
    "# 8"
   ]
  },
  {
   "cell_type": "code",
   "execution_count": 8,
   "metadata": {},
   "outputs": [],
   "source": [
    "# 9"
   ]
  },
  {
   "cell_type": "code",
   "execution_count": 11,
   "metadata": {},
   "outputs": [],
   "source": [
    "# 10"
   ]
  },
  {
   "cell_type": "code",
   "execution_count": 10,
   "metadata": {},
   "outputs": [
    {
     "name": "stdout",
     "output_type": "stream",
     "text": [
      "Root Impurity: 0.4285714285714286\n",
      "Child 1 Impurity: 0.25806451612903225\n",
      "Child 2 Impurity: 0.36\n",
      "The purity gain for the split is 0.125 with the purity measure class_error\n"
     ]
    },
    {
     "data": {
      "text/plain": [
       "0.125"
      ]
     },
     "execution_count": 10,
     "metadata": {},
     "output_type": "execute_result"
    }
   ],
   "source": [
    "# 11\n",
    "\n",
    "purity_gain([32, 24], [[23, 8], [9, 16]], \"class_error\")"
   ]
  },
  {
   "cell_type": "code",
   "execution_count": 13,
   "metadata": {},
   "outputs": [],
   "source": [
    "# 12"
   ]
  },
  {
   "cell_type": "code",
   "execution_count": 11,
   "metadata": {},
   "outputs": [
    {
     "data": {
      "text/plain": [
       "{'Accuracy': 'Accuracy =  1/2  = 0.50000',\n",
       " 'Recall': 'Recall =  7/16  = 0.43750',\n",
       " 'Specificity': 'Specificity =  7/12  = 0.58333',\n",
       " 'Precision': 'Precision =  7/12  = 0.58333',\n",
       " 'F1-score': 'F1-score =  1/2  = 0.50000',\n",
       " 'FPR': 'FPR =  5/12  = 0.41667',\n",
       " 'TNR': 'TNR =  7/12  = 0.58333',\n",
       " 'Balanced Accuracy': 'Balanced Accuracy =  49/96  = 0.51042'}"
      ]
     },
     "execution_count": 11,
     "metadata": {},
     "output_type": "execute_result"
    }
   ],
   "source": [
    "# 13\n",
    "\n",
    "confusion_matrix_stats(14, 14, 18, 10)"
   ]
  },
  {
   "cell_type": "code",
   "execution_count": 15,
   "metadata": {},
   "outputs": [],
   "source": [
    "# 14"
   ]
  },
  {
   "cell_type": "code",
   "execution_count": 16,
   "metadata": {},
   "outputs": [],
   "source": [
    "# 15"
   ]
  },
  {
   "cell_type": "code",
   "execution_count": 12,
   "metadata": {},
   "outputs": [
    {
     "name": "stdout",
     "output_type": "stream",
     "text": [
      "[['0', '8.55', '0.43', '1.25', '1.14', '3.73', '2.72', '1.63', '1.68', '1.28'], ['8.55', '0', '8.23', '8.13', '8.49', '6.84', '8.23', '8.28', '8.13', '7.66'], ['0.43', '8.23', '0', '1.09', '1.10', '3.55', '2.68', '1.50', '1.52', '1.05'], ['1.25', '8.13', '1.09', '0', '1.23', '3.21', '2.17', '1.29', '1.33', '0.56'], ['1.14', '8.49', '1.10', '1.23', '0', '3.20', '2.68', '1.56', '1.50', '1.28'], ['3.73', '6.84', '3.55', '3.21', '3.20', '0', '2.98', '2.66', '2.50', '3.00'], ['2.72', '8.23', '2.68', '2.17', '2.68', '2.98', '0', '2.28', '2.30', '2.31'], ['1.63', '8.28', '1.50', '1.29', '1.56', '2.66', '2.28', '0', '0.25', '1.46'], ['1.68', '8.13', '1.52', '1.33', '1.50', '2.50', '2.30', '0.25', '0', '1.44'], ['1.28', '7.66', '1.05', '0.56', '1.28', '3.00', '2.31', '1.46', '1.44', '0']]\n"
     ]
    },
    {
     "data": {
      "image/png": "[encoded data removed]",
      "text/plain": [
       "<Figure size 1000x400 with 1 Axes>"
      ]
     },
     "metadata": {},
     "output_type": "display_data"
    }
   ],
   "source": [
    "# 16\n",
    "a = \"\"\" O1 O2 O3 O4 O5 O6 O7 O8 O9 O10\n",
    "O1 0 8.55 0.43 1.25 1.14 3.73 2.72 1.63 1.68 1.28\n",
    "O2 8.55 0 8.23 8.13 8.49 6.84 8.23 8.28 8.13 7.66\n",
    "O3 0.43 8.23 0 1.09 1.10 3.55 2.68 1.50 1.52 1.05\n",
    "O4 1.25 8.13 1.09 0 1.23 3.21 2.17 1.29 1.33 0.56\n",
    "O5 1.14 8.49 1.10 1.23 0 3.20 2.68 1.56 1.50 1.28\n",
    "O6 3.73 6.84 3.55 3.21 3.20 0 2.98 2.66 2.50 3.00\n",
    "O7 2.72 8.23 2.68 2.17 2.68 2.98 0 2.28 2.30 2.31\n",
    "O8 1.63 8.28 1.50 1.29 1.56 2.66 2.28 0 0.25 1.46\n",
    "O9 1.68 8.13 1.52 1.33 1.50 2.50 2.30 0.25 0 1.44\n",
    "O10 1.28 7.66 1.05 0.56 1.28 3.00 2.31 1.46 1.44 0\"\"\"\n",
    "\n",
    "draw_dendrogram(a, \"average\")"
   ]
  },
  {
   "cell_type": "code",
   "execution_count": 15,
   "metadata": {},
   "outputs": [
    {
     "name": "stdout",
     "output_type": "stream",
     "text": [
      "R(Z, Q): 0.5111111111111111\n"
     ]
    }
   ],
   "source": [
    "# 17\n",
    "\n",
    "# Esempio di utilizzo con i tuoi dati\n",
    "Z = [1, 2, 1, 1, 1, 3, 1, 1, 1, 1]\n",
    "Q = [1, 2, 1, 1, 1, 2, 2, 2, 2, 1]\n",
    "\n",
    "result = rand_index_clusters(Z, Q)\n",
    "print(\"R(Z, Q):\", result)"
   ]
  },
  {
   "cell_type": "code",
   "execution_count": 17,
   "metadata": {},
   "outputs": [
    {
     "name": "stdout",
     "output_type": "stream",
     "text": [
      "The density for observation O2 is 0.13793103448275862\n",
      "The average relative density for observation O2 is 0.16925788213721796\n"
     ]
    },
    {
     "data": {
      "text/plain": [
       "0.16925788213721796"
      ]
     },
     "execution_count": 17,
     "metadata": {},
     "output_type": "execute_result"
    }
   ],
   "source": [
    "# 18\n",
    "b = [\n",
    "    [0, 8.55, 0.43, 1.25, 1.14, 3.73, 2.72, 1.63, 1.68, 1.28],\n",
    "    [8.55, 0, 8.23, 8.13, 8.49, 6.84, 8.23, 8.28, 8.13, 7.66],\n",
    "    [0.43, 8.23, 0, 1.09, 1.10, 3.55, 2.68, 1.50, 1.52, 1.05],\n",
    "    [1.25, 8.13, 1.09, 0, 1.23, 3.21, 2.17, 1.29, 1.33, 0.56],\n",
    "    [1.14, 8.49, 1.10, 1.23, 0, 3.20, 2.68, 1.56, 1.50, 1.28],\n",
    "    [3.73, 6.84, 3.55, 3.21, 3.20, 0, 2.98, 2.66, 2.50, 3.00],\n",
    "    [2.72, 8.23, 2.68, 2.17, 2.68, 2.98, 0, 2.28, 2.30, 2.31],\n",
    "    [1.63, 8.28, 1.50, 1.29, 1.56, 2.66, 2.28, 0, 0.25, 1.46],\n",
    "    [1.68, 8.13, 1.52, 1.33, 1.50, 2.50, 2.30, 0.25, 0, 1.44],\n",
    "    [1.28, 7.66, 1.05, 0.56, 1.28, 3.00, 2.31, 1.46, 1.44, 0],\n",
    "]\n",
    "df = pd.DataFrame(b)\n",
    "\n",
    "ARD(df, 1, 2)"
   ]
  },
  {
   "cell_type": "code",
   "execution_count": 38,
   "metadata": {},
   "outputs": [
    {
     "name": "stdout",
     "output_type": "stream",
     "text": [
      "The rule is {[ 4  6  8 10]} ---> {[12]}\n",
      "The support for the rule is 0.2\n",
      "The confidence for the rule is 0.6666666666666666\n"
     ]
    }
   ],
   "source": [
    "# 19\n",
    "c = [\n",
    "    [1, 0, 1, 0, 1, 0, 1, 0, 1, 0, 1, 0],\n",
    "    [0, 1, 0, 1, 0, 1, 0, 1, 0, 1, 0, 1],\n",
    "    [1, 0, 0, 1, 1, 0, 1, 0, 1, 0, 1, 0],\n",
    "    [1, 0, 1, 0, 1, 0, 0, 1, 0, 1, 1, 0],\n",
    "    [0, 1, 1, 0, 1, 0, 1, 0, 1, 0, 1, 0],\n",
    "    [0, 1, 0, 1, 0, 1, 0, 1, 0, 1, 0, 1],\n",
    "    [0, 1, 1, 0, 1, 0, 0, 1, 0, 1, 0, 1],\n",
    "    [1, 0, 1, 0, 1, 0, 1, 0, 0, 1, 0, 1],\n",
    "    [0, 1, 0, 1, 1, 0, 1, 0, 0, 1, 0, 1],\n",
    "    [1, 0, 0, 1, 0, 1, 0, 1, 0, 1, 1, 0],\n",
    "]\n",
    "df = pd.DataFrame(c)\n",
    "rule_stats(df, [3, 5, 7, 9], [11])"
   ]
  },
  {
   "cell_type": "code",
   "execution_count": 32,
   "metadata": {},
   "outputs": [
    {
     "name": "stdout",
     "output_type": "stream",
     "text": [
      "The probability that the given class is predicted by the Naïve Bayes classifier is 0.39999999999999997\n"
     ]
    }
   ],
   "source": [
    "# cols = [1, 2]\n",
    "# y = [0, 0, 0, 0, 0, 0, 0, 0, 1, 1, 1]\n",
    "# col_vals = [1, 0]\n",
    "# pred_class = 1\n",
    "# df = pd.DataFrame(a)\n",
    "# naive_bayes(y, df, cols, col_vals, pred_class)"
   ]
  },
  {
   "cell_type": "code",
   "execution_count": 39,
   "metadata": {},
   "outputs": [
    {
     "name": "stdout",
     "output_type": "stream",
     "text": [
      "The probability that the given class is predicted by the Naïve Bayes classifier is 0.08163265306122452\n"
     ]
    }
   ],
   "source": [
    "# 20\n",
    "\n",
    "\n",
    "def naive_bayes(y, df, cols, col_vals, pred_class):\n",
    "    \"\"\"\n",
    "    probability of a naive bayes classifier, with more than 2 classes\n",
    "    -------------------------------------\n",
    "    parameters:\n",
    "    ----------\n",
    "    y = list of observation class labels (starting at 0)\n",
    "    df = data frame with binary data\n",
    "    cols = columns to condition the probability on (starts at 0)\n",
    "    col_vals = the values the columns are condtioned on\n",
    "    pred_class = the class you would like to predict the probability of (starts at 0) <- remember this if y starts on 1\n",
    "    \"\"\"\n",
    "    y = np.array(y)\n",
    "\n",
    "    probs = []\n",
    "    for c in range(len(np.unique(y))):\n",
    "        n = np.mean(y == c)\n",
    "        suby = df.iloc[y == c, :]\n",
    "        for i in range(len(cols)):\n",
    "            p = np.mean(suby.loc[:, cols[i]] == col_vals[i])\n",
    "            n *= p\n",
    "        probs.append(n)\n",
    "\n",
    "    prob = probs[pred_class] / np.sum(probs)\n",
    "\n",
    "    print(\n",
    "        \"The probability that the given class is predicted by the Naïve Bayes classifier is {}\".format(\n",
    "            prob\n",
    "        )\n",
    "    )\n",
    "    return None\n",
    "\n",
    "\n",
    "y = [1, 0, 1, 1, 1, 0, 0, 0, 0, 1]\n",
    "cols = [3, 5, 7, 9]\n",
    "col_vals = [1, 1, 1, 1]\n",
    "pred_class = 1\n",
    "# df = pd.DataFrame(a)\n",
    "naive_bayes(y, df, cols, col_vals, pred_class)"
   ]
  },
  {
   "cell_type": "code",
   "execution_count": 22,
   "metadata": {},
   "outputs": [],
   "source": [
    "# 21"
   ]
  },
  {
   "cell_type": "code",
   "execution_count": 40,
   "metadata": {},
   "outputs": [
    {
     "data": {
      "image/png": "[encoded data removed]",
      "text/plain": [
       "<Figure size 640x480 with 1 Axes>"
      ]
     },
     "metadata": {},
     "output_type": "display_data"
    }
   ],
   "source": [
    "# 22\n",
    "plot_roc([1, 0, 1, 1, 1, 0, 0, 0, 0, 1], [1, 0, 1, 0, 1, 0, 0, 0, 0, 0])"
   ]
  },
  {
   "cell_type": "code",
   "execution_count": 32,
   "metadata": {},
   "outputs": [
    {
     "name": "stdout",
     "output_type": "stream",
     "text": [
      "alpha = 0.6931471805599453\n",
      "w[0]: 0.041652\n",
      "w[1]: 0.041652\n",
      "w[2]: 0.097247\n",
      "w[3]: 0.041652\n",
      "w[4]: 0.097247\n",
      "w[5]: 0.041652\n",
      "w[6]: 0.041652\n",
      "w[7]: 0.388986\n",
      "w[8]: 0.166608\n",
      "w[9]: 0.041652\n"
     ]
    }
   ],
   "source": [
    "# 23\n",
    "import numpy as np\n",
    "\n",
    "\n",
    "def adaboost(delta, rounds, w=None):\n",
    "    \"\"\"\n",
    "    delta : list of misclassified observations,\n",
    "    0 = correctly classified, 1 = misclassified\n",
    "\n",
    "    rounds [int] : how many rounds to run\n",
    "\n",
    "    !!!CALL FOR EACH ROUND!!!\n",
    "\n",
    "    Example:\n",
    "    Given a classification problem with 25 observations in total,\n",
    "    with 5 of them being misclassified in round 1, the weights can be calculated as:\n",
    "    miss = np.zeros(25)\n",
    "    miss[:5] = 1\n",
    "    te.adaboost(miss, 1)\n",
    "\n",
    "    The weights are printed\n",
    "    \"\"\"\n",
    "    # Initial weights\n",
    "    delta = np.array(delta)\n",
    "    n = len(delta)\n",
    "    if w is None:\n",
    "        weights = np.ones(n) / n\n",
    "    else:\n",
    "        weights = w\n",
    "\n",
    "    # Run all rounds\n",
    "    for i in range(rounds):\n",
    "        eps = np.mean(delta == 1)\n",
    "        alpha = 0.5 * np.log((1 - eps) / eps)\n",
    "        s = np.array([-1 if d == 0 else 1 for d in delta])\n",
    "        print(f\"alpha = {alpha}\")\n",
    "\n",
    "        # Calculate weight vector and normalize it\n",
    "        weights = weights.T * np.exp(s * alpha)\n",
    "        weights /= np.sum(weights)\n",
    "\n",
    "        # Print resulting weights\n",
    "    for i, w in enumerate(weights):\n",
    "        print(\"w[%i]: %f\" % (i, w))\n",
    "\n",
    "\n",
    "w = np.array(\n",
    "    [\n",
    "        [0.1000, 0.0714, 0.0469, 0.0319],\n",
    "        [0.1000, 0.0714, 0.0469, 0.0319],\n",
    "        [0.1000, 0.1667, 0.1094, 0.2059],\n",
    "        [0.1000, 0.0714, 0.0469, 0.0319],\n",
    "        [0.1000, 0.1667, 0.1094, 0.2059],\n",
    "        [0.1000, 0.0714, 0.0469, 0.0882],\n",
    "        [0.1000, 0.0714, 0.0469, 0.0319],\n",
    "        [0.1000, 0.1667, 0.3500, 0.2383],\n",
    "        [0.1000, 0.0714, 0.1500, 0.1021],\n",
    "        [0.1000, 0.0714, 0.0469, 0.0319],\n",
    "    ]\n",
    ")\n",
    "\n",
    "w1 = w[:, 0]\n",
    "w2 = w[:, 1]\n",
    "w3 = w[:, 2]\n",
    "w4 = w[:, 3]\n",
    "miss = np.zeros(10)\n",
    "miss1 = [0, 0, 1, 0, 1, 0, 0, 1, 0, 0]\n",
    "miss2 = [0, 0, 0, 0, 0, 0, 0, 1, 1, 0]\n",
    "miss3 = [0, 0, 1, 0, 1, 1, 0, 0, 0, 0]\n",
    "miss4 = [0, 0, 1, 0, 0, 1, 0, 0, 0, 0]\n",
    "adaboost(miss2, 1, w2)"
   ]
  },
  {
   "cell_type": "code",
   "execution_count": 25,
   "metadata": {},
   "outputs": [],
   "source": [
    "# 24"
   ]
  },
  {
   "cell_type": "code",
   "execution_count": 53,
   "metadata": {},
   "outputs": [
    {
     "name": "stdout",
     "output_type": "stream",
     "text": [
      "The assigned clusters are: [0 1 1 2 2 2 2 2]\n",
      "The cluster centers of the converged k-means algorithm are: [1.   1.35 2.58]\n"
     ]
    }
   ],
   "source": [
    "# 25\n",
    "from sklearn.cluster import KMeans\n",
    "\n",
    "\n",
    "def kmeans_1d(x, k, init=None):\n",
    "    \"\"\"\n",
    "    assigns cluster to values in a 1d array\n",
    "    -----------------------------------------\n",
    "    parameters:\n",
    "    -----------\n",
    "    x = list of values to cluster\n",
    "    k = number of clusters\n",
    "    init = values to initialize clusters at\n",
    "    \"\"\"\n",
    "    x = np.array(x).reshape(-1, 1)\n",
    "\n",
    "    if init is None:\n",
    "        kmeans = KMeans(n_clusters=k, init=\"k-means++\").fit(x)\n",
    "    else:\n",
    "        init = np.array(init).reshape(-1, 1)\n",
    "        kmeans = KMeans(n_clusters=k, init=init).fit(x)\n",
    "\n",
    "    clusters = kmeans.predict(x)\n",
    "\n",
    "    centers = []\n",
    "\n",
    "    for c in np.unique(clusters):\n",
    "        centers.append(np.mean(x[clusters == c]))\n",
    "\n",
    "    centers = np.round(centers, 4)\n",
    "    print(\"The assigned clusters are: {}\".format(clusters))\n",
    "    print(\n",
    "        \"The cluster centers of the converged k-means algorithm are: {}\".format(centers)\n",
    "    )\n",
    "    return None\n",
    "\n",
    "\n",
    "z = [1.0, 1.2, 1.5, 2.0, 2.2, 2.5, 3.0, 3.2]\n",
    "\n",
    "kmeans_1d(z, 3, [1, 1.2, 1.5])"
   ]
  },
  {
   "cell_type": "code",
   "execution_count": 27,
   "metadata": {},
   "outputs": [],
   "source": [
    "# 26"
   ]
  },
  {
   "cell_type": "code",
   "execution_count": 28,
   "metadata": {},
   "outputs": [],
   "source": [
    "# 27"
   ]
  }
 ],
 "metadata": {
  "kernelspec": {
   "display_name": "Python 3",
   "language": "python",
   "name": "python3"
  },
  "language_info": {
   "codemirror_mode": {
    "name": "ipython",
    "version": 3
   },
   "file_extension": ".py",
   "mimetype": "text/x-python",
   "name": "python",
   "nbconvert_exporter": "python",
   "pygments_lexer": "ipython3",
   "version": "3.12.0"
  }
 },
 "nbformat": 4,
 "nbformat_minor": 2
}
