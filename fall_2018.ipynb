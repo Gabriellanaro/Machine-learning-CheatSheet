{
 "cells": [
  {
   "cell_type": "code",
   "execution_count": 1,
   "metadata": {},
   "outputs": [],
   "source": [
    "from exam_functions import *\n",
    "import exam_toolbox as et\n",
    "import numpy as np\n",
    "from sklearn.decomposition import PCA"
   ]
  },
  {
   "cell_type": "code",
   "execution_count": 2,
   "metadata": {},
   "outputs": [],
   "source": [
    "# 1\n",
    "# carta"
   ]
  },
  {
   "cell_type": "code",
   "execution_count": 3,
   "metadata": {},
   "outputs": [],
   "source": [
    "V = np.array(\n",
    "    [\n",
    "        [0.04, -0.12, -0.14, 0.35, 0.92],\n",
    "        [0.06, 0.13, 0.05, -0.92, 0.37],\n",
    "        [-0.03, -0.98, 0.08, -0.16, -0.05],\n",
    "        [-0.99, 0.03, 0.06, -0.02, 0.07],\n",
    "        [-0.07, -0.05, -0.98, -0.11, -0.11],\n",
    "    ]\n",
    ")"
   ]
  },
  {
   "cell_type": "code",
   "execution_count": 4,
   "metadata": {},
   "outputs": [
    {
     "data": {
      "text/html": [
       "<div>\n",
       "<style scoped>\n",
       "    .dataframe tbody tr th:only-of-type {\n",
       "        vertical-align: middle;\n",
       "    }\n",
       "\n",
       "    .dataframe tbody tr th {\n",
       "        vertical-align: top;\n",
       "    }\n",
       "\n",
       "    .dataframe thead th {\n",
       "        text-align: right;\n",
       "    }\n",
       "</style>\n",
       "<table border=\"1\" class=\"dataframe\">\n",
       "  <thead>\n",
       "    <tr style=\"text-align: right;\">\n",
       "      <th></th>\n",
       "      <th>k</th>\n",
       "      <th>var_explained</th>\n",
       "    </tr>\n",
       "  </thead>\n",
       "  <tbody>\n",
       "    <tr>\n",
       "      <th>0</th>\n",
       "      <td>1.0</td>\n",
       "      <td>0.494169</td>\n",
       "    </tr>\n",
       "    <tr>\n",
       "      <th>1</th>\n",
       "      <td>2.0</td>\n",
       "      <td>0.654022</td>\n",
       "    </tr>\n",
       "    <tr>\n",
       "      <th>2</th>\n",
       "      <td>3.0</td>\n",
       "      <td>0.800130</td>\n",
       "    </tr>\n",
       "    <tr>\n",
       "      <th>3</th>\n",
       "      <td>4.0</td>\n",
       "      <td>0.913920</td>\n",
       "    </tr>\n",
       "    <tr>\n",
       "      <th>4</th>\n",
       "      <td>5.0</td>\n",
       "      <td>1.000000</td>\n",
       "    </tr>\n",
       "  </tbody>\n",
       "</table>\n",
       "</div>"
      ],
      "text/plain": [
       "     k  var_explained\n",
       "0  1.0       0.494169\n",
       "1  2.0       0.654022\n",
       "2  3.0       0.800130\n",
       "3  4.0       0.913920\n",
       "4  5.0       1.000000"
      ]
     },
     "execution_count": 4,
     "metadata": {},
     "output_type": "execute_result"
    }
   ],
   "source": [
    "# 2\n",
    "S = [14.4, 8.19, 7.83, 6.91, 6.01]\n",
    "var_explained(S, plot=False, show_df=False)"
   ]
  },
  {
   "cell_type": "code",
   "execution_count": 5,
   "metadata": {},
   "outputs": [
    {
     "name": "stdout",
     "output_type": "stream",
     "text": [
      "[-0.0858 -2.8028  0.2288 -0.4576 -0.143 ]\n"
     ]
    }
   ],
   "source": [
    "# 3\n",
    "xab = np.array([0, 0, 2.86, 0, 0])\n",
    "\n",
    "print(xab @ V)\n",
    "# le prime 2 pc sono negative -> il vettore da A a B è negativo"
   ]
  },
  {
   "cell_type": "code",
   "execution_count": 2,
   "metadata": {},
   "outputs": [
    {
     "name": "stdout",
     "output_type": "stream",
     "text": [
      "The density for observation O4 is 0.684931506849315\n",
      "The average relative density for observation O4 is 0.7148305214022026\n"
     ]
    },
    {
     "data": {
      "text/plain": [
       "0.7148305214022026"
      ]
     },
     "execution_count": 2,
     "metadata": {},
     "output_type": "execute_result"
    }
   ],
   "source": [
    "# 4\n",
    "data = [\n",
    "    [0.0, 2.91, 0.63, 1.88, 1.02, 1.82, 1.92, 1.58, 1.08, 1.43],\n",
    "    [2.91, 0.0, 3.23, 3.9, 2.88, 3.27, 3.48, 4.02, 3.08, 3.47],\n",
    "    [0.63, 3.23, 0.0, 2.03, 1.06, 2.15, 2.11, 1.15, 1.09, 1.65],\n",
    "    [1.88, 3.9, 2.03, 0.0, 2.52, 1.04, 2.25, 2.42, 2.18, 2.17],\n",
    "    [1.02, 2.88, 1.06, 2.52, 0.0, 2.44, 2.38, 1.53, 1.71, 1.94],\n",
    "    [1.82, 3.27, 2.15, 1.04, 2.44, 0.0, 1.93, 2.72, 1.98, 1.8],\n",
    "    [1.92, 3.48, 2.11, 2.25, 2.38, 1.93, 0.0, 2.53, 2.09, 1.66],\n",
    "    [1.58, 4.02, 1.15, 2.42, 1.53, 2.72, 2.53, 0.0, 1.68, 2.06],\n",
    "    [1.08, 3.08, 1.09, 2.18, 1.71, 1.98, 2.09, 1.68, 0.0, 1.48],\n",
    "    [1.43, 3.47, 1.65, 2.17, 1.94, 1.8, 1.66, 2.06, 1.48, 0.0],\n",
    "]\n",
    "df = pd.DataFrame(data)\n",
    "\n",
    "ARD(df, 3, 2)"
   ]
  },
  {
   "cell_type": "code",
   "execution_count": 7,
   "metadata": {},
   "outputs": [
    {
     "data": {
      "text/plain": [
       "0.005717373569359967"
      ]
     },
     "execution_count": 7,
     "metadata": {},
     "output_type": "execute_result"
    }
   ],
   "source": [
    "# 5\n",
    "pesi = np.array([0.3333, 0.3333, 0.3333])\n",
    "vect_dist = np.array([2.11, 1.15, 1.09])\n",
    "gmm_weighted_density(0.5, 10, vect_dist, pesi)"
   ]
  },
  {
   "cell_type": "code",
   "execution_count": 11,
   "metadata": {},
   "outputs": [
    {
     "name": "stdout",
     "output_type": "stream",
     "text": [
      "[['0.0', '2.91', '0.63', '1.88', '1.02', '1.82', '1.92', '1.58', '1.08', '1.43'], ['2.91', '0.0', '3.23', '3.9', '2.88', '3.27', '3.48', '4.02', '3.08', '3.47'], ['0.63', '3.23', '0.0', '2.03', '1.06', '2.15', '2.11', '1.15', '1.09', '1.65'], ['1.88', '3.9', '2.03', '0.0', '2.52', '1.04', '2.25', '2.42', '2.18', '2.17'], ['1.02', '2.88', '1.06', '2.52', '0.0', '2.44', '2.38', '1.53', '1.71', '1.94'], ['1.82', '3.27', '2.15', '1.04', '2.44', '0.0', '1.93', '2.72', '1.98', '1.8'], ['1.92', '3.48', '2.11', '2.25', '2.38', '1.93', '0.0', '2.53', '2.09', '1.66'], ['1.58', '4.02', '1.15', '2.42', '1.53', '2.72', '2.53', '0.0', '1.68', '2.06'], ['1.08', '3.08', '1.09', '2.18', '1.71', '1.98', '2.09', '1.68', '0.0', '1.48'], ['1.43', '3.47', '1.65', '2.17', '1.94', '1.8', '1.66', '2.06', '1.48', '0.0']]\n"
     ]
    },
    {
     "data": {
      "image/png": "[encoded data removed]",
      "text/plain": [
       "<Figure size 1000x400 with 1 Axes>"
      ]
     },
     "metadata": {},
     "output_type": "display_data"
    }
   ],
   "source": [
    "a = \"\"\"O1 O2 O3 O4 O5 O6 O7 O8 O9 O10\n",
    "O1 0.0 2.91 0.63 1.88 1.02 1.82 1.92 1.58 1.08 1.43\n",
    "O2 2.91 0.0 3.23 3.9 2.88 3.27 3.48 4.02 3.08 3.47\n",
    "O3 0.63 3.23 0.0 2.03 1.06 2.15 2.11 1.15 1.09 1.65\n",
    "O4 1.88 3.9 2.03 0.0 2.52 1.04 2.25 2.42 2.18 2.17\n",
    "O5 1.02 2.88 1.06 2.52 0.0 2.44 2.38 1.53 1.71 1.94\n",
    "O6 1.82 3.27 2.15 1.04 2.44 0.0 1.93 2.72 1.98 1.8\n",
    "O7 1.92 3.48 2.11 2.25 2.38 1.93 0.0 2.53 2.09 1.66\n",
    "O8 1.58 4.02 1.15 2.42 1.53 2.72 2.53 0.0 1.68 2.06\n",
    "O9 1.08 3.08 1.09 2.18 1.71 1.98 2.09 1.68 0.0 1.48\n",
    "O10 1.43 3.47 1.65 2.17 1.94 1.8 1.66 2.06 1.48 0.0\"\"\"\n",
    "draw_dendrogram(a, method=\"single\")\n",
    "\n",
    "# a = \"\"\"O1 O2 O3 O4 O5 O6 O7 O8 O9 O10\n",
    "# O1 0 8.55 0.43 1.25 1.14 3.73 2.72 1.63 1.68 1.28\n",
    "# O2 8.55 0 8.23 8.13 8.49 6.84 8.23 8.28 8.13 7.66\n",
    "# O3 0.43 8.23 0 1.09 1.10 3.55 2.68 1.50 1.52 1.05\n",
    "# O4 1.25 8.13 1.09 0 1.23 3.21 2.17 1.29 1.33 0.56\n",
    "# O5 1.14 8.49 1.10 1.23 0 3.20 2.68 1.56 1.50 1.28\n",
    "# O6 3.73 6.84 3.55 3.21 3.20 0 2.98 2.66 2.50 3.00\n",
    "# O7 2.72 8.23 2.68 2.17 2.68 2.98 0 2.28 2.30 2.31\n",
    "# O8 1.63 8.28 1.50 1.29 1.56 2.66 2.28 0 0.25 1.46\n",
    "# O9 1.68 8.13 1.52 1.33 1.50 2.50 2.30 0.25 0 1.44\n",
    "# O10 1.28 7.66 1.05 0.56 1.28 3.00 2.31 1.46 1.44 0\"\"\"\n",
    "# draw_dendrogram(a, method=\"average\")"
   ]
  },
  {
   "cell_type": "code",
   "execution_count": 12,
   "metadata": {},
   "outputs": [
    {
     "name": "stdout",
     "output_type": "stream",
     "text": [
      "0.3019498874351788\n"
     ]
    }
   ],
   "source": [
    "y = [0, 0, 0, 1, 1, 1, 1, 1, 2, 2]\n",
    "clusterid = [0, 1, 0, 2, 0, 2, 0, 0, 0, 0]\n",
    "print(normalized_mutual_info_score(y, clusterid))"
   ]
  },
  {
   "cell_type": "code",
   "execution_count": 5,
   "metadata": {},
   "outputs": [],
   "source": [
    "# 8\n",
    "# SU CARTA"
   ]
  },
  {
   "cell_type": "code",
   "execution_count": 8,
   "metadata": {},
   "outputs": [
    {
     "name": "stdout",
     "output_type": "stream",
     "text": [
      "Root Impurity: 0.6438095238095238\n",
      "Child 1 Impurity: 0.31238095238095237\n",
      "Child 2 Impurity: 0.25333333333333335\n",
      "Purity Gain: 0.0780952380952381\n"
     ]
    }
   ],
   "source": [
    "# 9\n",
    "root_classes = np.array([(108 + 58), (112 + 75), (56 + 116)])  # Esempio con due classi\n",
    "child1_classes = np.array([108, 112, 56])\n",
    "child2_classes = np.array([58, 75, 116])\n",
    "\n",
    "gain = impurity_gain(\n",
    "    root_classes, [child1_classes, child2_classes], impurity_mode=\"class_error\"\n",
    ")\n",
    "print(\"Purity Gain:\", gain)"
   ]
  },
  {
   "cell_type": "code",
   "execution_count": 9,
   "metadata": {},
   "outputs": [
    {
     "name": "stdout",
     "output_type": "stream",
     "text": [
      "0.4342857142857143\n"
     ]
    }
   ],
   "source": [
    "# 10\n",
    "tp = max(child1_classes)\n",
    "tn = max(child2_classes)\n",
    "tot = 525\n",
    "print((tp + tn) / tot)"
   ]
  },
  {
   "cell_type": "code",
   "execution_count": 30,
   "metadata": {},
   "outputs": [
    {
     "name": "stdout",
     "output_type": "stream",
     "text": [
      "Doc 1 vs Doc 2\n",
      "Cosine Similarity: 0.4364357804719848\n"
     ]
    }
   ],
   "source": [
    "# bag1 = np.array(\n",
    "#     [\n",
    "#         \"the\",\n",
    "#         \"bag\",\n",
    "#         \"of\",\n",
    "#         \"words\",\n",
    "#         \"representation\",\n",
    "#         \"should\",\n",
    "#         \"not\",\n",
    "#         \"give\",\n",
    "#         \"you\",\n",
    "#         \"a\",\n",
    "#         \"hard\",\n",
    "#         \"time\",\n",
    "#     ]\n",
    "# )\n",
    "# bag2 = np.array([\"remember\", \"the\", \"representation\", \"should\", \"be\", \"a\", \"vector\"])\n",
    "\n",
    "bag1 = \"the bag of words representation should not give you a hard time\"\n",
    "bag2 = \"remember the representation should be a vector\"\n",
    "\n",
    "\n",
    "def calculate_cosine_similarity(bags_of_words):\n",
    "    similarities = {}\n",
    "\n",
    "    for i in range(len(bags_of_words)):\n",
    "        for j in range(i + 1, len(bags_of_words)):\n",
    "            words_i = bags_of_words[i].split()\n",
    "            words_j = bags_of_words[j].split()\n",
    "\n",
    "            words_in_common = len(set(words_i).intersection(set(words_j)))\n",
    "            sqrt_total_words = math.sqrt(len(words_i)) * math.sqrt(len(words_j))\n",
    "\n",
    "            similarity = words_in_common / sqrt_total_words\n",
    "            key = f\"Doc {i+1} vs Doc {j+1}\"\n",
    "            similarities[key] = similarity\n",
    "\n",
    "    return similarities\n",
    "\n",
    "\n",
    "# Example usage:\n",
    "bags = [bag1, bag2]\n",
    "\n",
    "similarities = calculate_cosine_similarity(bags)\n",
    "for key, value in similarities.items():\n",
    "    print(key)\n",
    "    print(f\"Cosine Similarity: {value}\")"
   ]
  },
  {
   "cell_type": "code",
   "execution_count": 38,
   "metadata": {},
   "outputs": [
    {
     "name": "stdout",
     "output_type": "stream",
     "text": [
      "0.6878313305828404\n",
      "0.05625293357316737\n",
      "0.7957596977159083\n",
      "0.34298953732650117\n"
     ]
    }
   ],
   "source": [
    "# 12\n",
    "def sigmoid(x):\n",
    "    return 1 / (1 + math.exp(-x))\n",
    "\n",
    "\n",
    "a = -0.93 + 1.72\n",
    "b = -2.82\n",
    "c = 1.36\n",
    "d = -0.65\n",
    "print(sigmoid(a))\n",
    "print(sigmoid(b))\n",
    "print(sigmoid(c))\n",
    "print(sigmoid(d))"
   ]
  },
  {
   "cell_type": "code",
   "execution_count": 50,
   "metadata": {},
   "outputs": [],
   "source": [
    "def plot_roc1(true_val, pred_val):\n",
    "    \"\"\"\n",
    "    calculates the fpr and tpr and plots a roc curve\n",
    "    to compare the outputtet graph with the possible answers, look at where the plot has a elbow\n",
    "    -----------------------------------------------\n",
    "    parameters:\n",
    "    -----------\n",
    "    true_val = list of the correct labels, must be binarised so that 1 = positve class and 0 = negative class\n",
    "    pred_val = list of the predicted labels, must be binarised so that 1 = positve class and 0 = negative class\n",
    "\n",
    "    returns the area under the curve (AUC)\n",
    "    \"\"\"\n",
    "    fpr, tpr, _ = metrics.roc_curve(true_val, pred_val)\n",
    "    roc_auc = metrics.auc(fpr, tpr)\n",
    "\n",
    "    plt.title(\"Receiver Operating Characteristic\")\n",
    "    plt.plot(fpr, tpr, \"b\", label=\"AUC = %0.2f\" % roc_auc)\n",
    "    plt.legend(loc=\"lower right\")\n",
    "    plt.plot([0, 1], [0, 1], \"r--\")\n",
    "    plt.xlim([0, 1])\n",
    "    plt.ylim([0, 1])\n",
    "    plt.ylabel(\"True Positive Rate\")\n",
    "    plt.xlabel(\"False Positive Rate\")\n",
    "    plt.show()"
   ]
  },
  {
   "cell_type": "code",
   "execution_count": 51,
   "metadata": {},
   "outputs": [
    {
     "data": {
      "image/png": "[encoded data removed]",
      "text/plain": [
       "<Figure size 640x480 with 1 Axes>"
      ]
     },
     "metadata": {},
     "output_type": "display_data"
    },
    {
     "name": "stdout",
     "output_type": "stream",
     "text": [
      "None\n"
     ]
    }
   ],
   "source": [
    "# 13\n",
    "true = np.array([1, 1, 0, 0, 1, 0, 1])\n",
    "pred = np.array([1, 1, 1, 0, 0, 0, 1])\n",
    "print(plot_roc1(true, pred))"
   ]
  },
  {
   "cell_type": "code",
   "execution_count": 52,
   "metadata": {},
   "outputs": [],
   "source": [
    "### NAIVE BAYES PROB\n",
    "def naive_bayes(y, x, *obs):\n",
    "    y = np.array(y)\n",
    "    classes = set(y)\n",
    "    X = np.array(obs).T\n",
    "    N, M = X.shape\n",
    "    C = len(classes)\n",
    "    priors = np.zeros(C)\n",
    "\n",
    "    # Class priors\n",
    "    for i, c in enumerate(classes):\n",
    "        priors[i] = sum(y == c) / N\n",
    "\n",
    "    # Probs\n",
    "    probs = np.zeros((C, M))\n",
    "    for i, c in enumerate(classes):\n",
    "        for j in range(M):\n",
    "            probs[i, j] = sum((X[:, j] == x[j]) & (y == c)) / sum(y == c)\n",
    "\n",
    "    # Joint probs\n",
    "    joint = np.prod(probs, axis=1)\n",
    "\n",
    "    # Naive bayes\n",
    "    return (joint * priors) / sum(joint * priors)"
   ]
  },
  {
   "cell_type": "code",
   "execution_count": 62,
   "metadata": {},
   "outputs": [
    {
     "name": "stdout",
     "output_type": "stream",
     "text": [
      "The rule is {[0 2 7 8]} ---> {[1 5 6]}\n",
      "The support for the rule is 0.1\n",
      "The confidence for the rule is 1.0\n"
     ]
    }
   ],
   "source": [
    "data = [\n",
    "    [1, 1, 0, 0, 0, 1, 0, 0, 0, 1],\n",
    "    [1, 0, 0, 0, 0, 0, 0, 0, 0, 0],\n",
    "    [1, 1, 0, 0, 0, 1, 0, 0, 0, 1],\n",
    "    [0, 1, 1, 1, 0, 0, 0, 1, 1, 0],\n",
    "    [1, 1, 0, 0, 0, 1, 0, 0, 0, 1],\n",
    "    [0, 1, 1, 1, 0, 0, 1, 1, 1, 0],\n",
    "    [1, 1, 1, 0, 0, 1, 1, 1, 1, 0],\n",
    "    [0, 1, 1, 1, 0, 1, 1, 0, 0, 1],\n",
    "    [0, 0, 0, 0, 1, 1, 1, 0, 1, 1],\n",
    "    [1, 0, 0, 0, 0, 1, 1, 1, 1, 0],\n",
    "]\n",
    "\n",
    "df = pd.DataFrame(data)\n",
    "\n",
    "\n",
    "rule_stats(df, [0, 2, 7, 8], [1, 5, 6])"
   ]
  },
  {
   "cell_type": "code",
   "execution_count": 65,
   "metadata": {},
   "outputs": [
    {
     "name": "stdout",
     "output_type": "stream",
     "text": [
      "['L: ', 1, {0}, {1}, {2}, {3}, {5}, 'L: ', 2, {0, 1}, {0, 5}, {1, 2}, {1, 3}, {1, 5}, {2, 3}, {2, 5}, 'L: ', 3, {0, 1, 5}, {1, 2, 3}, {1, 2, 5}, 'L: ', 4, 'L: ', 5, 'L: ', 6]\n"
     ]
    },
    {
     "data": {
      "text/plain": [
       "['L: ',\n",
       " 1,\n",
       " {0},\n",
       " {1},\n",
       " {2},\n",
       " {3},\n",
       " {5},\n",
       " 'L: ',\n",
       " 2,\n",
       " {0, 1},\n",
       " {0, 5},\n",
       " {1, 2},\n",
       " {1, 3},\n",
       " {1, 5},\n",
       " {2, 3},\n",
       " {2, 5},\n",
       " 'L: ',\n",
       " 3,\n",
       " {0, 1, 5},\n",
       " {1, 2, 3},\n",
       " {1, 2, 5},\n",
       " 'L: ',\n",
       " 4,\n",
       " 'L: ',\n",
       " 5,\n",
       " 'L: ',\n",
       " 6]"
      ]
     },
     "execution_count": 65,
     "metadata": {},
     "output_type": "execute_result"
    }
   ],
   "source": [
    "data1 = [\n",
    "    [1, 1, 0, 0, 0, 0],\n",
    "    [1, 0, 0, 0, 0, 1],\n",
    "    [1, 1, 0, 0, 0, 0],\n",
    "    [0, 1, 1, 1, 0, 0],\n",
    "    [1, 1, 0, 0, 0, 1],\n",
    "    [0, 1, 1, 1, 0, 0],\n",
    "    [1, 1, 1, 0, 0, 1],\n",
    "    [0, 1, 1, 1, 0, 1],\n",
    "    [0, 0, 0, 0, 1, 1],\n",
    "    [1, 0, 0, 0, 0, 1],\n",
    "]\n",
    "\n",
    "# data1 = [\n",
    "#     [1, 1, 0, 0, 0, 0],\n",
    "#     [1, 0, 0, 0, 0, 1],\n",
    "#     [0, 1, 1, 0, 0, 0],\n",
    "#     [0, 1, 0, 1, 0, 0],\n",
    "#     [0, 1, 0, 0, 0, 1],\n",
    "#     [0, 0, 1, 1, 0, 0],\n",
    "#     [0, 0, 1, 0, 0, 1],\n",
    "# ]\n",
    "df1 = pd.DataFrame(data1)\n",
    "apriori_algorithm(df1, 0.15)"
   ]
  },
  {
   "cell_type": "code",
   "execution_count": 66,
   "metadata": {},
   "outputs": [
    {
     "name": "stdout",
     "output_type": "stream",
     "text": [
      "0.2981132075471698\n"
     ]
    }
   ],
   "source": [
    "print((0.25 * 0.316) / (0.25 * 0.316 + 0.2 * 0.356 + 0.35 * 0.328))"
   ]
  },
  {
   "cell_type": "code",
   "execution_count": 67,
   "metadata": {},
   "outputs": [
    {
     "name": "stdout",
     "output_type": "stream",
     "text": [
      "T1: -0.185,-0.28600000000000003\n"
     ]
    }
   ],
   "source": [
    "# 21\n",
    "print(f\"T1: {-0.185},{-0.325-0.168+0.207}\")"
   ]
  },
  {
   "cell_type": "code",
   "execution_count": 72,
   "metadata": {},
   "outputs": [
    {
     "data": {
      "text/plain": [
       "5.6000000000000005"
      ]
     },
     "execution_count": 72,
     "metadata": {},
     "output_type": "execute_result"
    }
   ],
   "source": [
    "# 23\n",
    "-0.8 + (-0.1 * 3.2 + 2.1 * 3.2)"
   ]
  },
  {
   "cell_type": "code",
   "execution_count": 75,
   "metadata": {},
   "outputs": [
    {
     "name": "stdout",
     "output_type": "stream",
     "text": [
      "0.4143884892086331\n"
     ]
    }
   ],
   "source": [
    "# 24\n",
    "n = 0.9 * 0.32\n",
    "d = 0.15 * 1.3 + 0.53 * 0.4 + 0.9 * 0.32\n",
    "print(n / d)"
   ]
  },
  {
   "cell_type": "code",
   "execution_count": 76,
   "metadata": {},
   "outputs": [],
   "source": [
    "# 25\n",
    "# carta"
   ]
  },
  {
   "cell_type": "code",
   "execution_count": 79,
   "metadata": {},
   "outputs": [
    {
     "name": "stdout",
     "output_type": "stream",
     "text": [
      "0.19700000000000006\n"
     ]
    }
   ],
   "source": [
    "# 26\n",
    "p1 = np.abs(0.301 - 0.34) + np.abs(0.514 - 0.672)\n",
    "print(p1)"
   ]
  },
  {
   "cell_type": "code",
   "execution_count": 80,
   "metadata": {},
   "outputs": [],
   "source": [
    "import numpy as np\n",
    "\n",
    "\n",
    "def kmeans_multi_centroids(data, centroids):\n",
    "    categories = {i: [] for i in range(len(centroids))}\n",
    "\n",
    "    for point in data:\n",
    "        differences = [abs(point - centroid) for centroid in centroids]\n",
    "        closest_centroid_idx = np.argmin(differences)\n",
    "        categories[closest_centroid_idx].append(point)\n",
    "\n",
    "    # Print clusterings\n",
    "    for idx, points in categories.items():\n",
    "        print(f\"Cluster {idx + 1}: {points}\")\n",
    "\n",
    "    # Calculate new centroids\n",
    "    new_centroids = [np.mean(points) for points in categories.values()]\n",
    "\n",
    "    return np.array(new_centroids)"
   ]
  },
  {
   "cell_type": "code",
   "execution_count": 89,
   "metadata": {},
   "outputs": [
    {
     "name": "stdout",
     "output_type": "stream",
     "text": [
      "Cluster 1: [0.1, 0.3]\n",
      "Cluster 2: [0.5, 1.0]\n",
      "Cluster 3: [2.2, 3.0]\n",
      "Cluster 4: [4.1, 4.4, 4.7]\n",
      "Updated Centroids: [0.2  0.75 2.6  4.4 ]\n"
     ]
    }
   ],
   "source": [
    "# 27\n",
    "x = np.array([0.1, 0.3, 0.5, 1.0, 2.2, 3.0, 4.1, 4.4, 4.7])\n",
    "# Example usage:\n",
    "initial_centroids = np.array([0.2, 0.75, 2.8, 4.4])  # Initial centroids\n",
    "updated_centroids = kmeans_multi_centroids(x, initial_centroids)\n",
    "print(\"Updated Centroids:\", updated_centroids)"
   ]
  }
 ],
 "metadata": {
  "kernelspec": {
   "display_name": "Python 3",
   "language": "python",
   "name": "python3"
  },
  "language_info": {
   "codemirror_mode": {
    "name": "ipython",
    "version": 3
   },
   "file_extension": ".py",
   "mimetype": "text/x-python",
   "name": "python",
   "nbconvert_exporter": "python",
   "pygments_lexer": "ipython3",
   "version": "3.11.6"
  }
 },
 "nbformat": 4,
 "nbformat_minor": 2
}
