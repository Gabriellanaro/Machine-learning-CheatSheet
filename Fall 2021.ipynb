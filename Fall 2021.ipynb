{
 "cells": [
  {
   "cell_type": "code",
   "execution_count": 3,
   "metadata": {},
   "outputs": [],
   "source": [
    "from exam_functions import *\n",
    "import exam_toolbox as et\n",
    "import numpy as np\n",
    "from sklearn.decomposition import PCA"
   ]
  },
  {
   "cell_type": "code",
   "execution_count": 2,
   "metadata": {},
   "outputs": [],
   "source": [
    "# 1"
   ]
  },
  {
   "cell_type": "code",
   "execution_count": 3,
   "metadata": {},
   "outputs": [],
   "source": [
    "# 2"
   ]
  },
  {
   "cell_type": "code",
   "execution_count": 4,
   "metadata": {},
   "outputs": [],
   "source": [
    "# 3"
   ]
  },
  {
   "cell_type": "code",
   "execution_count": 2,
   "metadata": {},
   "outputs": [
    {
     "data": {
      "text/plain": [
       "array([ 3.000e-03, -3.278e+00,  1.000e-03,  4.200e-02,  1.700e-02])"
      ]
     },
     "execution_count": 2,
     "metadata": {},
     "output_type": "execute_result"
    }
   ],
   "source": [
    "# 4\n",
    "x = np.array([15.5, 59.2, 1.4, 1438.0, 5.3])\n",
    "mu = np.array([12.9, 58.2, 1.7, 1436.8, 4.1])\n",
    "V = np.array(\n",
    "    [\n",
    "        [0.11, -0.8, 0.3, -0.17, -0.48],\n",
    "        [-0.58, -0.31, 0.01, -0.5, 0.56],\n",
    "        [0.49, 0.08, -0.49, -0.72, -0.07],\n",
    "        [0.6, -0.36, 0.04, 0.27, 0.66],\n",
    "        [-0.23, -0.36, -0.82, 0.37, -0.09],\n",
    "    ]\n",
    ")\n",
    "x_s = x - mu\n",
    "x_s.T @ V"
   ]
  },
  {
   "cell_type": "code",
   "execution_count": 3,
   "metadata": {},
   "outputs": [
    {
     "data": {
      "text/plain": [
       "-0.3436164855716712"
      ]
     },
     "execution_count": 3,
     "metadata": {},
     "output_type": "execute_result"
    }
   ],
   "source": [
    "# 5\n",
    "def empirical_correlation(covariance_matrix, feature_index_1, feature_index_2):\n",
    "    # Calcola la varianza delle due features\n",
    "    var_feature_1 = covariance_matrix[feature_index_1, feature_index_1]\n",
    "    var_feature_2 = covariance_matrix[feature_index_2, feature_index_2]\n",
    "\n",
    "    # Calcola la covarianza tra le due features\n",
    "    cov_features = covariance_matrix[feature_index_1, feature_index_2]\n",
    "\n",
    "    # Calcola la correlazione empirica\n",
    "    correlation = cov_features / np.sqrt(var_feature_1 * var_feature_2)\n",
    "\n",
    "    return correlation\n",
    "\n",
    "\n",
    "emp = np.array(\n",
    "    [\n",
    "        [143.0, 39.0, -0.0, 253.0, 142.0],\n",
    "        [39.0, 415.0, -7.0, -6727.0, 143.0],\n",
    "        [-0.0, -7.0, 1.0, 108.0, -2.0],\n",
    "        [253.0, -6727.0, 108.0, 370027.0, -1403.0],\n",
    "        [142.0, 143.0, -2.0, -1403.0, 171.0],\n",
    "    ]\n",
    ")\n",
    "\n",
    "empirical_correlation(emp, 1, 2)"
   ]
  },
  {
   "cell_type": "code",
   "execution_count": 4,
   "metadata": {},
   "outputs": [
    {
     "name": "stdout",
     "output_type": "stream",
     "text": [
      "The density for observation O3 is 0.18867924528301885\n",
      "The average relative density for observation O3 is 0.6979857215706273\n"
     ]
    },
    {
     "data": {
      "text/plain": [
       "0.6979857215706273"
      ]
     },
     "execution_count": 4,
     "metadata": {},
     "output_type": "execute_result"
    }
   ],
   "source": [
    "# 6\n",
    "\n",
    "data = np.array(\n",
    "    [\n",
    "        [0.0, 5.0, 7.7, 6.1, 4.2, 11.0, 7.3, 9.0, 11.3, 1.4],\n",
    "        [5.0, 0.0, 5.4, 4.0, 7.5, 7.9, 5.3, 6.8, 11.9, 3.5],\n",
    "        [7.7, 5.4, 0.0, 5.2, 7.2, 6.1, 7.8, 6.7, 12.9, 6.4],\n",
    "        [6.1, 4.0, 5.2, 0.0, 5.1, 5.4, 8.4, 3.3, 8.1, 4.8],\n",
    "        [4.2, 7.5, 7.2, 5.1, 0.0, 8.7, 8.8, 6.6, 7.7, 4.1],\n",
    "        [11.0, 7.9, 6.1, 5.4, 8.7, 0.0, 12.0, 4.2, 9.3, 9.8],\n",
    "        [7.3, 5.3, 7.8, 8.4, 8.8, 12.0, 0.0, 11.0, 16.3, 6.7],\n",
    "        [9.0, 6.8, 6.7, 3.3, 6.6, 4.2, 11.0, 0.0, 6.2, 7.8],\n",
    "        [11.3, 11.9, 12.9, 8.1, 7.7, 9.3, 16.3, 6.2, 0.0, 10.4],\n",
    "        [1.4, 3.5, 6.4, 4.8, 4.1, 9.8, 6.7, 7.8, 10.4, 0.0],\n",
    "    ]\n",
    ")\n",
    "\n",
    "df = pd.DataFrame(data)\n",
    "\n",
    "ARD(df, 2, 2)"
   ]
  },
  {
   "cell_type": "code",
   "execution_count": 10,
   "metadata": {},
   "outputs": [
    {
     "data": {
      "image/png": "[encoded data removed]",
      "text/plain": [
       "<Figure size 1000x400 with 1 Axes>"
      ]
     },
     "metadata": {},
     "output_type": "display_data"
    }
   ],
   "source": [
    "# 7\n",
    "draw_dendrogram_df(df, method=\"complete\")"
   ]
  },
  {
   "cell_type": "code",
   "execution_count": 9,
   "metadata": {},
   "outputs": [],
   "source": [
    "# 8"
   ]
  },
  {
   "cell_type": "code",
   "execution_count": 10,
   "metadata": {},
   "outputs": [],
   "source": [
    "# 9"
   ]
  },
  {
   "cell_type": "code",
   "execution_count": 11,
   "metadata": {},
   "outputs": [],
   "source": [
    "# 10"
   ]
  },
  {
   "cell_type": "code",
   "execution_count": 12,
   "metadata": {},
   "outputs": [],
   "source": [
    "# 11"
   ]
  },
  {
   "cell_type": "code",
   "execution_count": 13,
   "metadata": {},
   "outputs": [],
   "source": [
    "# 12"
   ]
  },
  {
   "cell_type": "code",
   "execution_count": 15,
   "metadata": {},
   "outputs": [],
   "source": [
    "# 13"
   ]
  },
  {
   "cell_type": "code",
   "execution_count": 7,
   "metadata": {},
   "outputs": [],
   "source": [
    "def calculate_rss(values):\n",
    "    return np.sum((values - np.mean(values)) ** 2)\n",
    "\n",
    "\n",
    "## TO USE FOR REGRESSION TREES\n",
    "def purity_gain_rss(parent_values, left_child_values, right_child_values):\n",
    "    \"\"\"\n",
    "    Calculates the purity gain using RSS (Residual Sum of Squares) for a given split.\n",
    "\n",
    "    Parameters:\n",
    "    - parent_values (numpy.ndarray): Values of the parent node before the split.\n",
    "    - left_child_values (numpy.ndarray): Values of the left child node after the split.\n",
    "    - right_child_values (numpy.ndarray): Values of the right child node after the split.\n",
    "\n",
    "    Returns:\n",
    "    - float: Purity gain using RSS.\n",
    "    \"\"\"\n",
    "\n",
    "    rss_parent = calculate_rss(parent_values)\n",
    "    rss_left_child = calculate_rss(left_child_values)\n",
    "    rss_right_child = calculate_rss(right_child_values)\n",
    "    total_instances = len(parent_values)\n",
    "    total_instances_left = len(left_child_values)\n",
    "    total_instances_right = len(right_child_values)\n",
    "\n",
    "    i_p = (1 / total_instances) * rss_parent\n",
    "    i_l = (1 / total_instances_left) * rss_left_child\n",
    "    i_r = (1 / total_instances_right) * rss_right_child\n",
    "\n",
    "    print(f\"Impurity PARENT      : {i_p}\")\n",
    "    print(f\"Impurity LEFT CHILD  : {i_l}\")\n",
    "    print(f\"Impurity RIGHT CHIKD : {i_r}\")\n",
    "\n",
    "    # Calculate the purity gain using RSS\n",
    "\n",
    "    purity_gain = (\n",
    "        i_p\n",
    "        - (total_instances_left / total_instances) * i_l\n",
    "        - (total_instances_right / total_instances) * i_r\n",
    "    )\n",
    "\n",
    "    return purity_gain"
   ]
  },
  {
   "cell_type": "code",
   "execution_count": 8,
   "metadata": {},
   "outputs": [
    {
     "name": "stdout",
     "output_type": "stream",
     "text": [
      "Impurity PARENT      : 30.64\n",
      "Impurity LEFT CHILD  : 0.0\n",
      "Impurity RIGHT CHIKD : 16.25\n"
     ]
    },
    {
     "data": {
      "text/plain": [
       "17.638"
      ]
     },
     "execution_count": 8,
     "metadata": {},
     "output_type": "execute_result"
    }
   ],
   "source": [
    "# 14\n",
    "purity_gain_rss([23, 6, 17, 14, 13], [23], [6, 17, 14, 13])"
   ]
  },
  {
   "cell_type": "code",
   "execution_count": 17,
   "metadata": {},
   "outputs": [],
   "source": [
    "# 15\n",
    "def softmax(x):\n",
    "    \"\"\"\n",
    "    calcola funzione di attivazione softmax dato in input un'osservazione x di qualsiasi dimensione\n",
    "    \"\"\"\n",
    "    exp_x = np.exp(x - np.max(x, axis=-1, keepdims=True))\n",
    "    return exp_x / np.sum(exp_x, axis=-1, keepdims=True)"
   ]
  },
  {
   "cell_type": "code",
   "execution_count": null,
   "metadata": {},
   "outputs": [],
   "source": []
  },
  {
   "cell_type": "code",
   "execution_count": 18,
   "metadata": {},
   "outputs": [],
   "source": [
    "# 16"
   ]
  },
  {
   "cell_type": "code",
   "execution_count": 20,
   "metadata": {},
   "outputs": [],
   "source": [
    "# 18"
   ]
  },
  {
   "cell_type": "code",
   "execution_count": 21,
   "metadata": {},
   "outputs": [],
   "source": [
    "# 19"
   ]
  },
  {
   "cell_type": "code",
   "execution_count": 22,
   "metadata": {},
   "outputs": [],
   "source": [
    "# 20"
   ]
  },
  {
   "cell_type": "code",
   "execution_count": 38,
   "metadata": {},
   "outputs": [
    {
     "name": "stdout",
     "output_type": "stream",
     "text": [
      "Probabilità che x1 ([ 0.8 -1. ]) appartenga a classe 1 = 0.3333\n",
      "Probabilità che x1 ([ 0.8 -1. ]) appartenga a classe 2 = 0.3333\n",
      "Probabilità che x1 ([ 0.8 -1. ]) appartenga a classe 3 = 0.3333\n",
      "Probabilità che x2 ([0.2 1. ]) appartenga a classe 1 = 0.3333\n",
      "Probabilità che x2 ([0.2 1. ]) appartenga a classe 2 = 0.3333\n",
      "Probabilità che x2 ([0.2 1. ]) appartenga a classe 3 = 0.3333\n"
     ]
    }
   ],
   "source": [
    "# 21\n",
    "# Esempio di utilizzo\n",
    "x = np.array([[0.8, -1], [0.2, 1]])  # vettore x che contiene le osservazioni\n",
    "w = np.array([[1, 1], [1, 1], [1, 1]])  # un peso per ciascuna classe\n",
    "\n",
    "multinomial_regression(x, w)"
   ]
  },
  {
   "cell_type": "code",
   "execution_count": 23,
   "metadata": {},
   "outputs": [],
   "source": [
    "# 22\n",
    "\n",
    "\n",
    "def adaboost(delta, rounds, weights=None):\n",
    "    \"\"\"\n",
    "    delta : list of misclassified observations,\n",
    "    0 = correctly classified, 1 = misclassified\n",
    "\n",
    "    rounds [int] : how many rounds to run\n",
    "\n",
    "    !!!CALL FOR EACH ROUND!!!\n",
    "\n",
    "    Example:\n",
    "    Given a classification problem with 25 observations in total,\n",
    "    with 5 of them being misclassified in round 1, the weights can be calculated as:\n",
    "    miss = np.zeros(25)\n",
    "    miss[:5] = 1\n",
    "    adaboost(miss, 1)\n",
    "\n",
    "    The weights are printed\n",
    "    \"\"\"\n",
    "    # Initial weights\n",
    "    delta = np.array(delta)\n",
    "    n = len(delta)\n",
    "    if weights is None:\n",
    "        weights = np.ones(n) / n\n",
    "    else:\n",
    "        weights = np.array(weights)\n",
    "\n",
    "    # Run all rounds\n",
    "    for i in range(rounds):\n",
    "        eps = np.mean(delta)\n",
    "        if eps <= 0 or eps >= 1:\n",
    "            break  # Handling extreme cases to prevent division by zero or log(0)\n",
    "\n",
    "        alpha = 0.5 * np.log((1 - eps) / eps)\n",
    "        s = np.array([-1 if d == 0 else 1 for d in delta])\n",
    "\n",
    "        # Update weights only for misclassified examples\n",
    "        weights = weights * np.exp(s * alpha)\n",
    "        weights /= np.sum(weights)  # Normalizing weights\n",
    "\n",
    "    # Print resulting weights (consider improving this for larger datasets)\n",
    "\n",
    "    print(f\"Alpha: {alpha}\")\n",
    "    for i, w in enumerate(weights):\n",
    "        print(\"w[%i]: %f\" % (i, w))\n",
    "\n",
    "    return weights"
   ]
  },
  {
   "cell_type": "code",
   "execution_count": 24,
   "metadata": {},
   "outputs": [
    {
     "name": "stdout",
     "output_type": "stream",
     "text": [
      "Alpha: 0.14384103622589042\n",
      "w[0]: 0.037772\n",
      "w[1]: 0.282971\n",
      "w[2]: 0.037772\n",
      "w[3]: 0.282971\n",
      "w[4]: 0.282971\n",
      "w[5]: 0.037772\n",
      "w[6]: 0.037772\n"
     ]
    },
    {
     "data": {
      "text/plain": [
       "array([0.03777202, 0.28297064, 0.03777202, 0.28297064, 0.28297064,\n",
       "       0.03777202, 0.03777202])"
      ]
     },
     "execution_count": 24,
     "metadata": {},
     "output_type": "execute_result"
    }
   ],
   "source": [
    "mis = [0, 1, 0, 1, 1, 0, 0]\n",
    "adaboost(mis, 7)"
   ]
  },
  {
   "cell_type": "code",
   "execution_count": 25,
   "metadata": {},
   "outputs": [],
   "source": [
    "# 23"
   ]
  },
  {
   "cell_type": "code",
   "execution_count": 25,
   "metadata": {},
   "outputs": [],
   "source": [
    "def softmax(x):\n",
    "    \"\"\"\n",
    "    calcola funzione di attivazione softmax dato in input un'osservazione x di qualsiasi dimensione\n",
    "    \"\"\"\n",
    "    exp_x = np.exp(x - np.max(x, axis=-1, keepdims=True))\n",
    "    return exp_x / np.sum(exp_x, axis=-1, keepdims=True)\n",
    "\n",
    "\n",
    "def multinomial_regression(x, w):\n",
    "    \"\"\"\n",
    "    Calcola la probabilità che l'osservazione x appartenga a una classe usando il classificatore di regressione multinomiale.\n",
    "\n",
    "    Args:\n",
    "    x (array): Vettore di osservazioni di qualsiasi dimensione.\n",
    "    w (array): Vettore dei pesi (un peso per ogni classe, i pesi devono avere la stessa dimensione delle osservazioni).\n",
    "\n",
    "    Returns:\n",
    "    None (stampa le probabilità per ogni classe per ciascuna osservazione)\n",
    "    \"\"\"\n",
    "    probabilities = softmax(np.dot(x, np.transpose(w)))\n",
    "\n",
    "    for i, x_i in enumerate(x):\n",
    "        for j, theta_j in enumerate(probabilities[i]):\n",
    "            print(\n",
    "                f\"Probabilità che x{i+1} ({x_i}) appartenga a classe {j+1} = {theta_j:.4f}\"\n",
    "            )"
   ]
  },
  {
   "cell_type": "code",
   "execution_count": 26,
   "metadata": {},
   "outputs": [
    {
     "ename": "TypeError",
     "evalue": "unsupported format string passed to numpy.ndarray.__format__",
     "output_type": "error",
     "traceback": [
      "\u001b[1;31m---------------------------------------------------------------------------\u001b[0m",
      "\u001b[1;31mTypeError\u001b[0m                                 Traceback (most recent call last)",
      "Cell \u001b[1;32mIn[26], line 5\u001b[0m\n\u001b[0;32m      2\u001b[0m x \u001b[38;5;241m=\u001b[39m np\u001b[38;5;241m.\u001b[39marray([\u001b[38;5;241m1\u001b[39m, \u001b[38;5;241m-\u001b[39m\u001b[38;5;241m5.52\u001b[39m, \u001b[38;5;241m-\u001b[39m\u001b[38;5;241m4.69\u001b[39m])  \u001b[38;5;66;03m# vettore x che contiene le osservazioni\u001b[39;00m\n\u001b[0;32m      3\u001b[0m w \u001b[38;5;241m=\u001b[39m np\u001b[38;5;241m.\u001b[39marray([[\u001b[38;5;241m0.04\u001b[39m, \u001b[38;5;241m1.32\u001b[39m, \u001b[38;5;241m-\u001b[39m\u001b[38;5;241m1.48\u001b[39m], [\u001b[38;5;241m-\u001b[39m\u001b[38;5;241m0.03\u001b[39m, \u001b[38;5;241m0.7\u001b[39m, \u001b[38;5;241m-\u001b[39m\u001b[38;5;241m0.85\u001b[39m]])  \u001b[38;5;66;03m# un peso per ciascuna classe\u001b[39;00m\n\u001b[1;32m----> 5\u001b[0m \u001b[43mmultinomial_regression\u001b[49m\u001b[43m(\u001b[49m\u001b[43mx\u001b[49m\u001b[43m,\u001b[49m\u001b[43m \u001b[49m\u001b[43mw\u001b[49m\u001b[43m)\u001b[49m\n",
      "Cell \u001b[1;32mIn[25], line 20\u001b[0m, in \u001b[0;36mmultinomial_regression\u001b[1;34m(x, w)\u001b[0m\n\u001b[0;32m     17\u001b[0m probabilities \u001b[38;5;241m=\u001b[39m softmax(np\u001b[38;5;241m.\u001b[39mdot(x_i, np\u001b[38;5;241m.\u001b[39mtranspose(w)))\n\u001b[0;32m     18\u001b[0m \u001b[38;5;28;01mfor\u001b[39;00m j, theta_j \u001b[38;5;129;01min\u001b[39;00m \u001b[38;5;28menumerate\u001b[39m(probabilities):\n\u001b[0;32m     19\u001b[0m     \u001b[38;5;28mprint\u001b[39m(\n\u001b[1;32m---> 20\u001b[0m         \u001b[38;5;124mf\u001b[39m\u001b[38;5;124m\"\u001b[39m\u001b[38;5;124mProbabilità che x\u001b[39m\u001b[38;5;132;01m{\u001b[39;00mi\u001b[38;5;241m+\u001b[39m\u001b[38;5;241m1\u001b[39m\u001b[38;5;132;01m}\u001b[39;00m\u001b[38;5;124m (\u001b[39m\u001b[38;5;132;01m{\u001b[39;00mx_i\u001b[38;5;132;01m}\u001b[39;00m\u001b[38;5;124m) appartenga a classe \u001b[39m\u001b[38;5;132;01m{\u001b[39;00mj\u001b[38;5;241m+\u001b[39m\u001b[38;5;241m1\u001b[39m\u001b[38;5;132;01m}\u001b[39;00m\u001b[38;5;124m = \u001b[39m\u001b[38;5;132;43;01m{\u001b[39;49;00m\u001b[43mtheta_j\u001b[49m\u001b[38;5;132;43;01m:\u001b[39;49;00m\u001b[38;5;124;43m.4f\u001b[39;49m\u001b[38;5;132;43;01m}\u001b[39;49;00m\u001b[38;5;124m\"\u001b[39m\n\u001b[0;32m     21\u001b[0m     )\n",
      "\u001b[1;31mTypeError\u001b[0m: unsupported format string passed to numpy.ndarray.__format__"
     ]
    }
   ],
   "source": [
    "# Esempio di utilizzo\n",
    "x = np.array([1, -5.52, -4.69])  # vettore x che contiene le osservazioni\n",
    "w = np.array([[0.04, 1.32, -1.48], [-0.03, 0.7, -0.85]])  # un peso per ciascuna classe\n",
    "\n",
    "multinomial_regression(x, w)"
   ]
  },
  {
   "cell_type": "code",
   "execution_count": 47,
   "metadata": {},
   "outputs": [
    {
     "ename": "ValueError",
     "evalue": "all the input array dimensions except for the concatenation axis must match exactly, but along dimension 1, the array at index 0 has size 2 and the array at index 1 has size 1",
     "output_type": "error",
     "traceback": [
      "\u001b[1;31m---------------------------------------------------------------------------\u001b[0m",
      "\u001b[1;31mValueError\u001b[0m                                Traceback (most recent call last)",
      "Cell \u001b[1;32mIn[47], line 53\u001b[0m\n\u001b[0;32m     50\u001b[0m k \u001b[38;5;241m=\u001b[39m \u001b[38;5;241m3\u001b[39m\n\u001b[0;32m     51\u001b[0m cent \u001b[38;5;241m=\u001b[39m [\u001b[38;5;241m1\u001b[39m, \u001b[38;5;241m5\u001b[39m, \u001b[38;5;241m8\u001b[39m]\n\u001b[1;32m---> 53\u001b[0m \u001b[43mkmeans_1d\u001b[49m\u001b[43m(\u001b[49m\u001b[43mx\u001b[49m\u001b[43m,\u001b[49m\u001b[43m \u001b[49m\u001b[43mk\u001b[49m\u001b[43m,\u001b[49m\u001b[43m \u001b[49m\u001b[43mcentroids\u001b[49m\u001b[38;5;241;43m=\u001b[39;49m\u001b[43mcent\u001b[49m\u001b[43m)\u001b[49m\n",
      "Cell \u001b[1;32mIn[47], line 28\u001b[0m, in \u001b[0;36mkmeans_1d\u001b[1;34m(x, k, centroids)\u001b[0m\n\u001b[0;32m     26\u001b[0m \u001b[38;5;66;03m# Repeat centroids to match the length of x\u001b[39;00m\n\u001b[0;32m     27\u001b[0m repeated_centroids \u001b[38;5;241m=\u001b[39m np\u001b[38;5;241m.\u001b[39mtile(centroids, \u001b[38;5;28mlen\u001b[39m(x) \u001b[38;5;241m/\u001b[39m\u001b[38;5;241m/\u001b[39m \u001b[38;5;28mlen\u001b[39m(centroids))\n\u001b[1;32m---> 28\u001b[0m repeated_centroids \u001b[38;5;241m=\u001b[39m \u001b[43mnp\u001b[49m\u001b[38;5;241;43m.\u001b[39;49m\u001b[43mconcatenate\u001b[49m\u001b[43m(\u001b[49m\n\u001b[0;32m     29\u001b[0m \u001b[43m    \u001b[49m\u001b[43m(\u001b[49m\u001b[43mrepeated_centroids\u001b[49m\u001b[43m,\u001b[49m\u001b[43m \u001b[49m\u001b[43mcentroids\u001b[49m\u001b[43m[\u001b[49m\u001b[43m:\u001b[49m\u001b[43m \u001b[49m\u001b[38;5;28;43mlen\u001b[39;49m\u001b[43m(\u001b[49m\u001b[43mx\u001b[49m\u001b[43m)\u001b[49m\u001b[43m \u001b[49m\u001b[38;5;241;43m%\u001b[39;49m\u001b[43m \u001b[49m\u001b[38;5;28;43mlen\u001b[39;49m\u001b[43m(\u001b[49m\u001b[43mcentroids\u001b[49m\u001b[43m)\u001b[49m\u001b[43m]\u001b[49m\u001b[43m)\u001b[49m\n\u001b[0;32m     30\u001b[0m \u001b[43m\u001b[49m\u001b[43m)\u001b[49m\n\u001b[0;32m     32\u001b[0m initial_indices \u001b[38;5;241m=\u001b[39m np\u001b[38;5;241m.\u001b[39margmin(np\u001b[38;5;241m.\u001b[39mabs(x \u001b[38;5;241m-\u001b[39m repeated_centroids), axis\u001b[38;5;241m=\u001b[39m\u001b[38;5;241m0\u001b[39m)\n\u001b[0;32m     33\u001b[0m initial_centroids \u001b[38;5;241m=\u001b[39m repeated_centroids[initial_indices]\u001b[38;5;241m.\u001b[39mreshape(\u001b[38;5;241m-\u001b[39m\u001b[38;5;241m1\u001b[39m, \u001b[38;5;241m1\u001b[39m)\n",
      "\u001b[1;31mValueError\u001b[0m: all the input array dimensions except for the concatenation axis must match exactly, but along dimension 1, the array at index 0 has size 2 and the array at index 1 has size 1"
     ]
    }
   ],
   "source": [
    "from sklearn.cluster import KMeans\n",
    "import numpy as np\n",
    "\n",
    "\n",
    "def kmeans_1d(x, k, centroids=None):\n",
    "    \"\"\"\n",
    "    Assegna cluster ai valori in un array 1D usando l'algoritmo K-Means.\n",
    "\n",
    "    Parameters:\n",
    "    -----------\n",
    "    x : list of values to cluster\n",
    "    k : number of clusters\n",
    "    centroids : values to initialize clusters at (optional)\n",
    "\n",
    "    Returns:\n",
    "    --------\n",
    "    None (prints the assigned clusters and cluster centers)\n",
    "    \"\"\"\n",
    "    x = np.array(x).reshape(-1, 1)\n",
    "\n",
    "    if centroids is None:\n",
    "        kmeans = KMeans(n_clusters=k, random_state=42).fit(x)\n",
    "    else:\n",
    "        centroids = np.array(centroids).reshape(-1, 1)\n",
    "\n",
    "        # Repeat centroids to match the length of x\n",
    "        repeated_centroids = np.tile(centroids, len(x) // len(centroids))\n",
    "        repeated_centroids = np.concatenate(\n",
    "            (repeated_centroids, centroids[: len(x) % len(centroids)])\n",
    "        )\n",
    "\n",
    "        initial_indices = np.argmin(np.abs(x - repeated_centroids), axis=0)\n",
    "        initial_centroids = repeated_centroids[initial_indices].reshape(-1, 1)\n",
    "\n",
    "        kmeans = KMeans(\n",
    "            n_clusters=k, init=initial_centroids, n_init=1, random_state=42\n",
    "        ).fit(x)\n",
    "\n",
    "    clusters = kmeans.predict(x)\n",
    "    centers = kmeans.cluster_centers_.flatten()\n",
    "\n",
    "    print(\"The assigned clusters are: {}\".format(clusters))\n",
    "    print(\n",
    "        \"The cluster centers of the converged K-Means algorithm are: {}\".format(centers)\n",
    "    )\n",
    "    return None\n",
    "\n",
    "\n",
    "x = [0, 2, 4, 5, 6, 7, 14]\n",
    "k = 3\n",
    "cent = [1, 5, 8]\n",
    "\n",
    "kmeans_1d(x, k, centroids=cent)"
   ]
  },
  {
   "cell_type": "code",
   "execution_count": 27,
   "metadata": {},
   "outputs": [],
   "source": [
    "# 25"
   ]
  },
  {
   "cell_type": "code",
   "execution_count": 28,
   "metadata": {},
   "outputs": [],
   "source": [
    "# 26"
   ]
  },
  {
   "cell_type": "code",
   "execution_count": 29,
   "metadata": {},
   "outputs": [],
   "source": [
    "# 27"
   ]
  }
 ],
 "metadata": {
  "kernelspec": {
   "display_name": "Python 3",
   "language": "python",
   "name": "python3"
  },
  "language_info": {
   "codemirror_mode": {
    "name": "ipython",
    "version": 3
   },
   "file_extension": ".py",
   "mimetype": "text/x-python",
   "name": "python",
   "nbconvert_exporter": "python",
   "pygments_lexer": "ipython3",
   "version": "3.12.0"
  }
 },
 "nbformat": 4,
 "nbformat_minor": 2
}
