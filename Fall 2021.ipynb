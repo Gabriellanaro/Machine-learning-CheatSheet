{
 "cells": [
  {
   "cell_type": "code",
   "execution_count": 1,
   "metadata": {},
   "outputs": [],
   "source": [
    "from exam_functions import *\n",
    "import exam_toolbox as et\n",
    "import numpy as np\n",
    "from sklearn.decomposition import PCA"
   ]
  },
  {
   "cell_type": "code",
   "execution_count": 2,
   "metadata": {},
   "outputs": [],
   "source": [
    "# 1"
   ]
  },
  {
   "cell_type": "code",
   "execution_count": 3,
   "metadata": {},
   "outputs": [],
   "source": [
    "# 2"
   ]
  },
  {
   "cell_type": "code",
   "execution_count": 4,
   "metadata": {},
   "outputs": [],
   "source": [
    "# 3"
   ]
  },
  {
   "cell_type": "code",
   "execution_count": 2,
   "metadata": {},
   "outputs": [
    {
     "data": {
      "text/plain": [
       "array([ 3.000e-03, -3.278e+00,  1.000e-03,  4.200e-02,  1.700e-02])"
      ]
     },
     "execution_count": 2,
     "metadata": {},
     "output_type": "execute_result"
    }
   ],
   "source": [
    "# 4\n",
    "x = np.array([15.5, 59.2, 1.4, 1438.0, 5.3])\n",
    "mu = np.array([12.9, 58.2, 1.7, 1436.8, 4.1])\n",
    "V = np.array(\n",
    "    [\n",
    "        [0.11, -0.8, 0.3, -0.17, -0.48],\n",
    "        [-0.58, -0.31, 0.01, -0.5, 0.56],\n",
    "        [0.49, 0.08, -0.49, -0.72, -0.07],\n",
    "        [0.6, -0.36, 0.04, 0.27, 0.66],\n",
    "        [-0.23, -0.36, -0.82, 0.37, -0.09],\n",
    "    ]\n",
    ")\n",
    "x_s = x - mu\n",
    "x_s.T @ V"
   ]
  },
  {
   "cell_type": "code",
   "execution_count": 3,
   "metadata": {},
   "outputs": [
    {
     "data": {
      "text/plain": [
       "-0.3436164855716712"
      ]
     },
     "execution_count": 3,
     "metadata": {},
     "output_type": "execute_result"
    }
   ],
   "source": [
    "# 5\n",
    "def empirical_correlation(covariance_matrix, feature_index_1, feature_index_2):\n",
    "    # Calcola la varianza delle due features\n",
    "    var_feature_1 = covariance_matrix[feature_index_1, feature_index_1]\n",
    "    var_feature_2 = covariance_matrix[feature_index_2, feature_index_2]\n",
    "\n",
    "    # Calcola la covarianza tra le due features\n",
    "    cov_features = covariance_matrix[feature_index_1, feature_index_2]\n",
    "\n",
    "    # Calcola la correlazione empirica\n",
    "    correlation = cov_features / np.sqrt(var_feature_1 * var_feature_2)\n",
    "\n",
    "    return correlation\n",
    "\n",
    "\n",
    "emp = np.array(\n",
    "    [\n",
    "        [143.0, 39.0, -0.0, 253.0, 142.0],\n",
    "        [39.0, 415.0, -7.0, -6727.0, 143.0],\n",
    "        [-0.0, -7.0, 1.0, 108.0, -2.0],\n",
    "        [253.0, -6727.0, 108.0, 370027.0, -1403.0],\n",
    "        [142.0, 143.0, -2.0, -1403.0, 171.0],\n",
    "    ]\n",
    ")\n",
    "\n",
    "empirical_correlation(emp, 1, 2)"
   ]
  },
  {
   "cell_type": "code",
   "execution_count": 4,
   "metadata": {},
   "outputs": [
    {
     "name": "stdout",
     "output_type": "stream",
     "text": [
      "The density for observation O3 is 0.18867924528301885\n",
      "The average relative density for observation O3 is 0.6979857215706273\n"
     ]
    },
    {
     "data": {
      "text/plain": [
       "0.6979857215706273"
      ]
     },
     "execution_count": 4,
     "metadata": {},
     "output_type": "execute_result"
    }
   ],
   "source": [
    "# 6\n",
    "\n",
    "data = np.array(\n",
    "    [\n",
    "        [0.0, 5.0, 7.7, 6.1, 4.2, 11.0, 7.3, 9.0, 11.3, 1.4],\n",
    "        [5.0, 0.0, 5.4, 4.0, 7.5, 7.9, 5.3, 6.8, 11.9, 3.5],\n",
    "        [7.7, 5.4, 0.0, 5.2, 7.2, 6.1, 7.8, 6.7, 12.9, 6.4],\n",
    "        [6.1, 4.0, 5.2, 0.0, 5.1, 5.4, 8.4, 3.3, 8.1, 4.8],\n",
    "        [4.2, 7.5, 7.2, 5.1, 0.0, 8.7, 8.8, 6.6, 7.7, 4.1],\n",
    "        [11.0, 7.9, 6.1, 5.4, 8.7, 0.0, 12.0, 4.2, 9.3, 9.8],\n",
    "        [7.3, 5.3, 7.8, 8.4, 8.8, 12.0, 0.0, 11.0, 16.3, 6.7],\n",
    "        [9.0, 6.8, 6.7, 3.3, 6.6, 4.2, 11.0, 0.0, 6.2, 7.8],\n",
    "        [11.3, 11.9, 12.9, 8.1, 7.7, 9.3, 16.3, 6.2, 0.0, 10.4],\n",
    "        [1.4, 3.5, 6.4, 4.8, 4.1, 9.8, 6.7, 7.8, 10.4, 0.0],\n",
    "    ]\n",
    ")\n",
    "\n",
    "df = pd.DataFrame(data)\n",
    "\n",
    "ARD(df, 2, 2)"
   ]
  },
  {
   "cell_type": "code",
   "execution_count": 10,
   "metadata": {},
   "outputs": [
    {
     "data": {
      "image/png": "[encoded data removed]",
      "text/plain": [
       "<Figure size 1000x400 with 1 Axes>"
      ]
     },
     "metadata": {},
     "output_type": "display_data"
    }
   ],
   "source": [
    "# 7\n",
    "draw_dendrogram_df(df, method=\"complete\")"
   ]
  },
  {
   "cell_type": "code",
   "execution_count": 9,
   "metadata": {},
   "outputs": [],
   "source": [
    "# 8"
   ]
  },
  {
   "cell_type": "code",
   "execution_count": 10,
   "metadata": {},
   "outputs": [],
   "source": [
    "# 9"
   ]
  },
  {
   "cell_type": "code",
   "execution_count": 11,
   "metadata": {},
   "outputs": [],
   "source": [
    "# 10"
   ]
  },
  {
   "cell_type": "code",
   "execution_count": 12,
   "metadata": {},
   "outputs": [],
   "source": [
    "# 11"
   ]
  },
  {
   "cell_type": "code",
   "execution_count": 13,
   "metadata": {},
   "outputs": [],
   "source": [
    "# 12"
   ]
  },
  {
   "cell_type": "code",
   "execution_count": 15,
   "metadata": {},
   "outputs": [],
   "source": [
    "# 13"
   ]
  },
  {
   "cell_type": "code",
   "execution_count": 7,
   "metadata": {},
   "outputs": [],
   "source": [
    "def calculate_rss(values):\n",
    "    return np.sum((values - np.mean(values)) ** 2)\n",
    "\n",
    "\n",
    "## TO USE FOR REGRESSION TREES\n",
    "def purity_gain_rss(parent_values, left_child_values, right_child_values):\n",
    "    \"\"\"\n",
    "    Calculates the purity gain using RSS (Residual Sum of Squares) for a given split.\n",
    "\n",
    "    Parameters:\n",
    "    - parent_values (numpy.ndarray): Values of the parent node before the split.\n",
    "    - left_child_values (numpy.ndarray): Values of the left child node after the split.\n",
    "    - right_child_values (numpy.ndarray): Values of the right child node after the split.\n",
    "\n",
    "    Returns:\n",
    "    - float: Purity gain using RSS.\n",
    "    \"\"\"\n",
    "\n",
    "    rss_parent = calculate_rss(parent_values)\n",
    "    rss_left_child = calculate_rss(left_child_values)\n",
    "    rss_right_child = calculate_rss(right_child_values)\n",
    "    total_instances = len(parent_values)\n",
    "    total_instances_left = len(left_child_values)\n",
    "    total_instances_right = len(right_child_values)\n",
    "\n",
    "    i_p = (1 / total_instances) * rss_parent\n",
    "    i_l = (1 / total_instances_left) * rss_left_child\n",
    "    i_r = (1 / total_instances_right) * rss_right_child\n",
    "\n",
    "    print(f\"Impurity PARENT      : {i_p}\")\n",
    "    print(f\"Impurity LEFT CHILD  : {i_l}\")\n",
    "    print(f\"Impurity RIGHT CHIKD : {i_r}\")\n",
    "\n",
    "    # Calculate the purity gain using RSS\n",
    "\n",
    "    purity_gain = (\n",
    "        i_p\n",
    "        - (total_instances_left / total_instances) * i_l\n",
    "        - (total_instances_right / total_instances) * i_r\n",
    "    )\n",
    "\n",
    "    return purity_gain"
   ]
  },
  {
   "cell_type": "code",
   "execution_count": 8,
   "metadata": {},
   "outputs": [
    {
     "name": "stdout",
     "output_type": "stream",
     "text": [
      "Impurity PARENT      : 30.64\n",
      "Impurity LEFT CHILD  : 0.0\n",
      "Impurity RIGHT CHIKD : 16.25\n"
     ]
    },
    {
     "data": {
      "text/plain": [
       "17.638"
      ]
     },
     "execution_count": 8,
     "metadata": {},
     "output_type": "execute_result"
    }
   ],
   "source": [
    "# 14\n",
    "purity_gain_rss([23, 6, 17, 14, 13], [23], [6, 17, 14, 13])"
   ]
  },
  {
   "cell_type": "code",
   "execution_count": 17,
   "metadata": {},
   "outputs": [],
   "source": [
    "# 15"
   ]
  },
  {
   "cell_type": "code",
   "execution_count": 18,
   "metadata": {},
   "outputs": [],
   "source": [
    "# 16"
   ]
  },
  {
   "cell_type": "code",
   "execution_count": 14,
   "metadata": {},
   "outputs": [
    {
     "name": "stdout",
     "output_type": "stream",
     "text": [
      "[[0.806089]]\n"
     ]
    }
   ],
   "source": [
    "ann = et.ann()\n",
    "\n",
    "# w02 : the w02 given in the xercise\n",
    "# weights : list of the weights which have superscript (2)\n",
    "# matrices : the matrices, usually w_n^(1)\n",
    "ann = ann.get_ann(1.4, [-1, 0.4], [[-0.5, -0.1], [0.9, 2]], \"logistic\")\n",
    "y = ann([1, 1])\n",
    "\n",
    "print(1 / (1 + np.e ** (-y)))"
   ]
  },
  {
   "cell_type": "code",
   "execution_count": 35,
   "metadata": {},
   "outputs": [],
   "source": [
    "# 17\n",
    "def kde(x_train, x_test, sigma):\n",
    "    \"\"\"Compute the kernel density estimation\n",
    "    given the vector of training and the test\n",
    "    is a value for getting the predicition\n",
    "\n",
    "    Args:\n",
    "        x_train (list): training values\n",
    "        x_test (double): test val\n",
    "        sigma (double): kernel width\n",
    "\n",
    "    Returns:\n",
    "        double: p\n",
    "    \"\"\"\n",
    "    N = len(x_train)\n",
    "    p_ = 0\n",
    "    for x in x_train:\n",
    "        p_ += (1 / np.sqrt(2 * np.pi * sigma**2)) * np.exp(\n",
    "            -(((x_test - x) ** 2) / (2 * sigma**2))\n",
    "        )\n",
    "    p = (1 / N) * p_\n",
    "\n",
    "    return p"
   ]
  },
  {
   "cell_type": "code",
   "execution_count": 36,
   "metadata": {},
   "outputs": [
    {
     "data": {
      "text/plain": [
       "[<matplotlib.lines.Line2D at 0x13d0cc211c0>]"
      ]
     },
     "execution_count": 36,
     "metadata": {},
     "output_type": "execute_result"
    },
    {
     "data": {
      "image/png": "[encoded data removed]",
      "text/plain": [
       "<Figure size 640x480 with 1 Axes>"
      ]
     },
     "metadata": {},
     "output_type": "display_data"
    }
   ],
   "source": [
    "yval = []\n",
    "xval = []\n",
    "xtest = 1.2\n",
    "xtrain = [4.5, -0.5]\n",
    "for sigma in np.arange(2, 8, 0.01):\n",
    "    xval.append(sigma)\n",
    "    p = kde(xtrain, xtest, sigma)\n",
    "    yval.append(-np.log(p))\n",
    "\n",
    "plt.plot(xval, yval)"
   ]
  },
  {
   "cell_type": "code",
   "execution_count": 20,
   "metadata": {},
   "outputs": [],
   "source": [
    "# 18"
   ]
  },
  {
   "cell_type": "code",
   "execution_count": 21,
   "metadata": {},
   "outputs": [],
   "source": [
    "# 19"
   ]
  },
  {
   "cell_type": "code",
   "execution_count": 22,
   "metadata": {},
   "outputs": [],
   "source": [
    "# 20"
   ]
  },
  {
   "cell_type": "code",
   "execution_count": 23,
   "metadata": {},
   "outputs": [],
   "source": [
    "# 21"
   ]
  },
  {
   "cell_type": "code",
   "execution_count": 24,
   "metadata": {},
   "outputs": [],
   "source": [
    "# 22"
   ]
  },
  {
   "cell_type": "code",
   "execution_count": 25,
   "metadata": {},
   "outputs": [],
   "source": [
    "# 23"
   ]
  },
  {
   "cell_type": "code",
   "execution_count": 26,
   "metadata": {},
   "outputs": [],
   "source": [
    "# 24"
   ]
  },
  {
   "cell_type": "code",
   "execution_count": 27,
   "metadata": {},
   "outputs": [],
   "source": [
    "# 25"
   ]
  },
  {
   "cell_type": "code",
   "execution_count": 28,
   "metadata": {},
   "outputs": [],
   "source": [
    "# 26"
   ]
  },
  {
   "cell_type": "code",
   "execution_count": 29,
   "metadata": {},
   "outputs": [],
   "source": [
    "# 27"
   ]
  }
 ],
 "metadata": {
  "kernelspec": {
   "display_name": "Python 3",
   "language": "python",
   "name": "python3"
  },
  "language_info": {
   "codemirror_mode": {
    "name": "ipython",
    "version": 3
   },
   "file_extension": ".py",
   "mimetype": "text/x-python",
   "name": "python",
   "nbconvert_exporter": "python",
   "pygments_lexer": "ipython3",
   "version": "3.12.0"
  }
 },
 "nbformat": 4,
 "nbformat_minor": 2
}
