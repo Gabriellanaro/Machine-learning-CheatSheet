{
 "cells": [
  {
   "cell_type": "code",
   "execution_count": 5,
   "metadata": {},
   "outputs": [
    {
     "name": "stderr",
     "output_type": "stream",
     "text": [
      "c:\\Users\\Dell\\Desktop\\Git Hub\\Machine-learning-CheatSheet\\toolbox_02450.py:98: SyntaxWarning: \"is\" with a literal. Did you mean \"==\"?\n",
      "  if display is 'verbose':\n",
      "c:\\Users\\Dell\\Desktop\\Git Hub\\Machine-learning-CheatSheet\\toolbox_02450.py:106: SyntaxWarning: \"is\" with a literal. Did you mean \"==\"?\n",
      "  if display is 'verbose':\n"
     ]
    }
   ],
   "source": [
    "from exam_functions import *\n",
    "from exam_toolbox import *"
   ]
  },
  {
   "cell_type": "code",
   "execution_count": 3,
   "metadata": {},
   "outputs": [
    {
     "name": "stdout",
     "output_type": "stream",
     "text": [
      "Root Impurity: 0.6666666666666667\n",
      "Child 1 Impurity: 0.20370370370370372\n",
      "Child 2 Impurity: 0.22962962962962963\n",
      "Child 3 Impurity: 0.18287037037037035\n",
      "Purity Gain: 0.05046296296296304\n"
     ]
    }
   ],
   "source": [
    "# Esempio di utilizzo\n",
    "root_classes = np.array([18, 18, 18])  # Esempio con due classi\n",
    "child1_classes = np.array([6, 9, 3])\n",
    "child2_classes = np.array([4, 6, 10])\n",
    "child3_classes = np.array([8, 3, 5])\n",
    "# child4_classes = np.array([8,3,2])\n",
    "\n",
    "gain = impurity_gain(\n",
    "    root_classes, [child1_classes, child2_classes, child3_classes], impurity_mode=\"gini\"\n",
    ")\n",
    "print(\"Purity Gain:\", gain)"
   ]
  },
  {
   "cell_type": "code",
   "execution_count": 6,
   "metadata": {},
   "outputs": [
    {
     "name": "stderr",
     "output_type": "stream",
     "text": [
      "C:\\Users\\Dell\\AppData\\Local\\Packages\\PythonSoftwareFoundation.Python.3.11_qbz5n2kfra8p0\\LocalCache\\local-packages\\Python311\\site-packages\\sklearn\\cluster\\_kmeans.py:1416: FutureWarning: The default value of `n_init` will change from 10 to 'auto' in 1.4. Set the value of `n_init` explicitly to suppress the warning\n",
      "  super()._check_params_vs_input(X, default_n_init=10)\n"
     ]
    },
    {
     "name": "stdout",
     "output_type": "stream",
     "text": [
      "The assigned clusters are: [1 1 1 1 1 0 0 0 0 0]\n",
      "The cluster centers of the converged k-means algortihm is: [6.92 6.12]\n",
      "None\n"
     ]
    }
   ],
   "source": [
    "clus = cluster()\n",
    "\n",
    "print(clus.kmeans_1d([5.7, 6.0, 6.2, 6.3, 6.4, 6.6, 6.7, 6.9, 7.0, 7.4], 2))"
   ]
  }
 ],
 "metadata": {
  "kernelspec": {
   "display_name": "Python 3",
   "language": "python",
   "name": "python3"
  },
  "language_info": {
   "codemirror_mode": {
    "name": "ipython",
    "version": 3
   },
   "file_extension": ".py",
   "mimetype": "text/x-python",
   "name": "python",
   "nbconvert_exporter": "python",
   "pygments_lexer": "ipython3",
   "version": "3.11.6"
  }
 },
 "nbformat": 4,
 "nbformat_minor": 2
}
