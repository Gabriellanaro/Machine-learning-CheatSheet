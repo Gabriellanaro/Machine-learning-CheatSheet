{
 "cells": [
  {
   "cell_type": "code",
   "execution_count": 1,
   "metadata": {},
   "outputs": [],
   "source": [
    "import exam_functions as ef\n",
    "import exam_toolbox as et\n",
    "import numpy as np"
   ]
  },
  {
   "cell_type": "code",
   "execution_count": null,
   "metadata": {},
   "outputs": [],
   "source": [
    "# Esempio di utilizzo\n",
    "root_classes = np.array([18, 18, 18])  # Esempio con due classi\n",
    "child1_classes = np.array([6, 9, 3])\n",
    "child2_classes = np.array([4, 6, 10])\n",
    "child3_classes = np.array([8, 3, 5])\n",
    "# child4_classes = np.array([8,3,2])\n",
    "\n",
    "gain = impurity_gain(\n",
    "    root_classes, [child1_classes, child2_classes, child3_classes], impurity_mode=\"gini\"\n",
    ")\n",
    "print(\"Purity Gain:\", gain)"
   ]
  },
  {
   "cell_type": "code",
   "execution_count": null,
   "metadata": {},
   "outputs": [],
   "source": [
    "clus = cluster()\n",
    "\n",
    "print(clus.kmeans_1d([5.7, 6.0, 6.2, 6.3, 6.4, 6.6, 6.7, 6.9, 7.0, 7.4], 2))"
   ]
  },
  {
   "cell_type": "code",
   "execution_count": null,
   "metadata": {},
   "outputs": [],
   "source": [
    "miss = np.zeros(10)\n",
    "miss[:2] = 1\n",
    "\n",
    "ef.adaboost(miss, 1)"
   ]
  },
  {
   "cell_type": "code",
   "execution_count": null,
   "metadata": {},
   "outputs": [],
   "source": [
    "miss = np.zeros(10)\n",
    "miss[:5] = 1\n",
    "\n",
    "ef.adaboost(miss, 1)"
   ]
  },
  {
   "cell_type": "code",
   "execution_count": null,
   "metadata": {},
   "outputs": [],
   "source": [
    "x = np.array([-0.1, 0.2, 0.1, -0.3, 1, 0.5])\n",
    "V = np.matrix(\n",
    "    [[0.38, 0.51], [0.41, 0.41], [0.50, 0.34], [0.29, 0.48], [0.45, 0.42], [0.39, 0.23]]\n",
    ")"
   ]
  },
  {
   "cell_type": "code",
   "execution_count": null,
   "metadata": {},
   "outputs": [],
   "source": [
    "x @ V"
   ]
  },
  {
   "cell_type": "code",
   "execution_count": null,
   "metadata": {},
   "outputs": [],
   "source": [
    "0.38, 0.51, 0.23, 0.47, 0.55, 0.11\n",
    "0.41, 0.41, 0.53, 0.24, 0.00, 0.58\n",
    "0.50, 0.34, 0.13, 0.15, 0.05, 0.77\n",
    "0.29, 0.48, 0.78, 0.17, 0.00, 0.23\n",
    "0.45, 0.42, 0.09, 0.03, 0.78, 0.04\n",
    "0.39, 0.23, 0.20, 0.82, 0.30, 0.04"
   ]
  },
  {
   "cell_type": "code",
   "execution_count": null,
   "metadata": {},
   "outputs": [],
   "source": [
    "w = np.array([0.0189, 0.9159, 0.4256])\n",
    "x1 = np.array([1, 24, 0])\n",
    "al = x1 @ w\n",
    "al2 = x1 @ np.array([3.7336, 0.8003, 5.0741])\n",
    "0.3799e-6"
   ]
  },
  {
   "cell_type": "code",
   "execution_count": null,
   "metadata": {},
   "outputs": [],
   "source": [
    "(1 / (1 + np.exp(-al))) * -0.344e-6"
   ]
  },
  {
   "cell_type": "code",
   "execution_count": null,
   "metadata": {},
   "outputs": [],
   "source": [
    " 0.0429e-6 * (1 / (1 + np.exp(-al2)))"
   ]
  },
  {
   "cell_type": "code",
   "execution_count": null,
   "metadata": {},
   "outputs": [],
   "source": [
    "ef.impurity_gain([32, 24], [[23, 8], [9, 16]], \"class_error\")"
   ]
  },
  {
   "cell_type": "code",
   "execution_count": 3,
   "metadata": {},
   "outputs": [
    {
     "name": "stdout",
     "output_type": "stream",
     "text": [
      "Accuracy =  1/2  = 0.50000\n",
      "Recall =  7/16  = 0.43750\n",
      "Specificity =  7/12  = 0.58333\n",
      "Precision =  7/12  = 0.58333\n",
      "F1-score =  1/2  = 0.50000\n",
      "FPR =  5/12  = 0.41667\n",
      "TNR =  7/12  = 0.58333\n",
      "Balanced Accuracy =  49/96  = 0.51042\n"
     ]
    }
   ],
   "source": [
    "# Esempio di utilizzo\n",
    "TN = 14\n",
    "TP = 14\n",
    "FN = 18\n",
    "FP = 10\n",
    "\n",
    "metrics = ef.cunfusion_matrix_stats(TN, TP, FN, FP)\n",
    "for metric, value in metrics.items():\n",
    "    print(value)"
   ]
  }
 ],
 "metadata": {
  "kernelspec": {
   "display_name": "Python 3",
   "language": "python",
   "name": "python3"
  },
  "language_info": {
   "codemirror_mode": {
    "name": "ipython",
    "version": 3
   },
   "file_extension": ".py",
   "mimetype": "text/x-python",
   "name": "python",
   "nbconvert_exporter": "python",
   "pygments_lexer": "ipython3",
   "version": "3.11.6"
  }
 },
 "nbformat": 4,
 "nbformat_minor": 2
}
