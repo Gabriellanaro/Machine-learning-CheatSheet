{
 "cells": [
  {
   "cell_type": "code",
   "execution_count": 2,
   "metadata": {},
   "outputs": [],
   "source": [
    "from exam_functions import *"
   ]
  },
  {
   "cell_type": "code",
   "execution_count": 3,
   "metadata": {},
   "outputs": [
    {
     "name": "stdout",
     "output_type": "stream",
     "text": [
      "Root Impurity: 0.6666666666666667\n",
      "Child 1 Impurity: 0.20370370370370372\n",
      "Child 2 Impurity: 0.22962962962962963\n",
      "Child 3 Impurity: 0.18287037037037035\n",
      "Purity Gain: 0.05046296296296304\n"
     ]
    }
   ],
   "source": [
    "# Esempio di utilizzo\n",
    "root_classes = np.array([18, 18, 18])  # Esempio con due classi\n",
    "child1_classes = np.array([6, 9, 3])\n",
    "child2_classes = np.array([4, 6, 10])\n",
    "child3_classes = np.array([8, 3, 5])\n",
    "# child4_classes = np.array([8,3,2])\n",
    "\n",
    "gain = impurity_gain(\n",
    "    root_classes, [child1_classes, child2_classes, child3_classes], impurity_mode=\"gini\"\n",
    ")\n",
    "print(\"Purity Gain:\", gain)"
   ]
  },
  {
   "cell_type": "code",
   "execution_count": null,
   "metadata": {},
   "outputs": [],
   "source": []
  }
 ],
 "metadata": {
  "kernelspec": {
   "display_name": "Python 3",
   "language": "python",
   "name": "python3"
  },
  "language_info": {
   "codemirror_mode": {
    "name": "ipython",
    "version": 3
   },
   "file_extension": ".py",
   "mimetype": "text/x-python",
   "name": "python",
   "nbconvert_exporter": "python",
   "pygments_lexer": "ipython3",
   "version": "3.11.6"
  }
 },
 "nbformat": 4,
 "nbformat_minor": 2
}
