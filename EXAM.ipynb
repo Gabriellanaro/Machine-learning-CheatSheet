{
 "cells": [
  {
   "cell_type": "code",
   "execution_count": 4,
   "metadata": {},
   "outputs": [],
   "source": [
    "import numpy as np\n",
    "import pandas as pd\n",
    "from scipy.spatial import distance\n",
    "from scipy import stats\n",
    "import matplotlib.pyplot as plt\n",
    "from scipy.stats import zscore\n",
    "from exam_functions import *"
   ]
  },
  {
   "cell_type": "code",
   "execution_count": 1,
   "metadata": {},
   "outputs": [],
   "source": [
    "# 1"
   ]
  },
  {
   "cell_type": "code",
   "execution_count": 2,
   "metadata": {},
   "outputs": [],
   "source": [
    "# 2"
   ]
  },
  {
   "cell_type": "code",
   "execution_count": 17,
   "metadata": {},
   "outputs": [
    {
     "data": {
      "text/plain": [
       "array([[ 0.547,  2.564,  0.19 ,  0.263],\n",
       "       [-1.709, -0.393, -0.255,  0.124],\n",
       "       [-0.234, -0.119, -0.021,  0.752],\n",
       "       [ 3.101, -1.038, -0.024,  0.251],\n",
       "       [-0.92 , -1.202,  0.49 ,  0.264]])"
      ]
     },
     "execution_count": 17,
     "metadata": {},
     "output_type": "execute_result"
    }
   ],
   "source": [
    "# 3\n",
    "x = np.array([1.4, 1, 0.1, -2.8])\n",
    "X = np.array(\n",
    "    [\n",
    "        [-0.6, -0.6, 2.5, -0.1],\n",
    "        [-0.8, -0.3, -1, 1.2],\n",
    "        [-0.7, 0.3, -0.2, -0.1],\n",
    "        [1.4, 1, 0.1, -2.8],\n",
    "        [-0.2, 0.8, -1.2, 0.7],\n",
    "    ]\n",
    ")\n",
    "\n",
    "V = np.array(\n",
    "    [\n",
    "        [0.43, -0.26, 0.22, -0.84],\n",
    "        [0.17, -0.37, 0.81, 0.42],\n",
    "        [0.33, 0.88, 0.34, -0.01],\n",
    "        [-0.82, 0.14, 0.42, -0.36],\n",
    "    ]\n",
    ")\n",
    "V2 = np.array([[0.43, -0.26], [0.17, -0.37], [0.33, 0.88], [-0.82, 0.14]])\n",
    "\n",
    "X @ V"
   ]
  },
  {
   "cell_type": "code",
   "execution_count": 18,
   "metadata": {},
   "outputs": [
    {
     "data": {
      "image/png": "[encoded data removed]",
      "text/plain": [
       "<Figure size 640x480 with 1 Axes>"
      ]
     },
     "metadata": {},
     "output_type": "display_data"
    },
    {
     "name": "stdout",
     "output_type": "stream",
     "text": [
      "     k  var_explained\n",
      "0  1.0       0.583159\n",
      "1  2.0       0.976827\n",
      "2  3.0       0.990186\n",
      "3  4.0       1.000000\n"
     ]
    },
    {
     "data": {
      "text/html": [
       "<div>\n",
       "<style scoped>\n",
       "    .dataframe tbody tr th:only-of-type {\n",
       "        vertical-align: middle;\n",
       "    }\n",
       "\n",
       "    .dataframe tbody tr th {\n",
       "        vertical-align: top;\n",
       "    }\n",
       "\n",
       "    .dataframe thead th {\n",
       "        text-align: right;\n",
       "    }\n",
       "</style>\n",
       "<table border=\"1\" class=\"dataframe\">\n",
       "  <thead>\n",
       "    <tr style=\"text-align: right;\">\n",
       "      <th></th>\n",
       "      <th>k</th>\n",
       "      <th>var_explained</th>\n",
       "    </tr>\n",
       "  </thead>\n",
       "  <tbody>\n",
       "    <tr>\n",
       "      <th>0</th>\n",
       "      <td>1.0</td>\n",
       "      <td>0.583159</td>\n",
       "    </tr>\n",
       "    <tr>\n",
       "      <th>1</th>\n",
       "      <td>2.0</td>\n",
       "      <td>0.976827</td>\n",
       "    </tr>\n",
       "    <tr>\n",
       "      <th>2</th>\n",
       "      <td>3.0</td>\n",
       "      <td>0.990186</td>\n",
       "    </tr>\n",
       "    <tr>\n",
       "      <th>3</th>\n",
       "      <td>4.0</td>\n",
       "      <td>1.000000</td>\n",
       "    </tr>\n",
       "  </tbody>\n",
       "</table>\n",
       "</div>"
      ],
      "text/plain": [
       "     k  var_explained\n",
       "0  1.0       0.583159\n",
       "1  2.0       0.976827\n",
       "2  3.0       0.990186\n",
       "3  4.0       1.000000"
      ]
     },
     "execution_count": 18,
     "metadata": {},
     "output_type": "execute_result"
    }
   ],
   "source": [
    "# 4\n",
    "S = [3.7, 3.04, 0.56, 0.48]\n",
    "cum_var_explained(S)"
   ]
  },
  {
   "cell_type": "code",
   "execution_count": 22,
   "metadata": {},
   "outputs": [
    {
     "data": {
      "text/plain": [
       "array([[ 6.98, -1.96, -0.25, -0.91, -3.43],\n",
       "       [-1.96,  3.17,  0.55, -4.88,  1.96],\n",
       "       [-0.25,  0.55,  0.63, -0.42,  0.55],\n",
       "       [-0.91, -4.88, -0.42, 10.81, -1.56],\n",
       "       [-3.43,  1.96,  0.55, -1.56,  2.61]])"
      ]
     },
     "execution_count": 22,
     "metadata": {},
     "output_type": "execute_result"
    }
   ],
   "source": [
    "# 5\n",
    "X @ X.T"
   ]
  },
  {
   "cell_type": "code",
   "execution_count": 7,
   "metadata": {},
   "outputs": [],
   "source": [
    "# 6"
   ]
  },
  {
   "cell_type": "code",
   "execution_count": 8,
   "metadata": {},
   "outputs": [],
   "source": [
    "# 7"
   ]
  },
  {
   "cell_type": "code",
   "execution_count": 28,
   "metadata": {},
   "outputs": [
    {
     "data": {
      "text/plain": [
       "1.0"
      ]
     },
     "execution_count": 28,
     "metadata": {},
     "output_type": "execute_result"
    }
   ],
   "source": [
    "# 8\n",
    "# similarity_metrics()\n",
    "rand_index_clusters([0, 1, 0, 1], [0, 1, 0, 1])"
   ]
  },
  {
   "cell_type": "code",
   "execution_count": 10,
   "metadata": {},
   "outputs": [],
   "source": [
    "# 9"
   ]
  },
  {
   "cell_type": "code",
   "execution_count": 11,
   "metadata": {},
   "outputs": [],
   "source": [
    "# 10"
   ]
  },
  {
   "cell_type": "code",
   "execution_count": 12,
   "metadata": {},
   "outputs": [],
   "source": [
    "# 11"
   ]
  },
  {
   "cell_type": "code",
   "execution_count": 38,
   "metadata": {},
   "outputs": [
    {
     "name": "stdout",
     "output_type": "stream",
     "text": [
      "[-1.45107832 -0.66570088  0.00747979  0.71805937  1.39124004]\n",
      "[ 1.99851377  0.60087047 93.58557581  3.48160624  3.23452451]\n"
     ]
    }
   ],
   "source": [
    "# 12\n",
    "x = np.array([-3.4, -1.3, 0.5, 2.4, 4.2])\n",
    "x_std = (x - np.mean(x)) / np.std(x)\n",
    "print(x_std)\n",
    "\n",
    "y = np.array([-2.9, -0.4, 0.7, 2.5, 4.5])\n",
    "den = x_std.T * x_std\n",
    "num = x_std.T * y\n",
    "print(num / den)"
   ]
  },
  {
   "cell_type": "code",
   "execution_count": 15,
   "metadata": {},
   "outputs": [],
   "source": [
    "# 13\n",
    "naive_bayes()"
   ]
  },
  {
   "cell_type": "code",
   "execution_count": 16,
   "metadata": {},
   "outputs": [],
   "source": [
    "# 14"
   ]
  },
  {
   "cell_type": "code",
   "execution_count": 39,
   "metadata": {},
   "outputs": [],
   "source": [
    "# 15"
   ]
  },
  {
   "cell_type": "code",
   "execution_count": 44,
   "metadata": {},
   "outputs": [
    {
     "name": "stdout",
     "output_type": "stream",
     "text": [
      "1\n",
      "p-val=0.15386\n",
      "difference in accuracy between M1 and M2 = -1.66667\n",
      "p-val=0.00073\n",
      "difference in accuracy between M1 and M2 = 2.50000\n",
      "\n",
      "2\n",
      "p-val=0.26819\n",
      "difference in accuracy between M1 and M2 = -1.33333\n",
      "p-val=0.00002\n",
      "difference in accuracy between M1 and M2 = -3.83333\n",
      "\n",
      "3\n",
      "p-val=0.63583\n",
      "difference in accuracy between M1 and M2 = -0.66667\n",
      "p-val=0.10813\n",
      "difference in accuracy between M1 and M2 = 1.83333\n",
      "\n",
      "4\n",
      "p-val=0.00126\n",
      "difference in accuracy between M1 and M2 = 3.66667\n",
      "p-val=0.00000\n",
      "difference in accuracy between M1 and M2 = 4.83333\n"
     ]
    }
   ],
   "source": [
    "# 16\n",
    "print(\"1\")\n",
    "p121 = mcnemar_test(15, 25, 6)\n",
    "p131 = mcnemar_test(17, 2, 6)\n",
    "print(\"\\n2\")\n",
    "p122 = mcnemar_test(16, 24, 6)\n",
    "p132 = mcnemar_test(3, 26, 6)\n",
    "print(\"\\n3\")\n",
    "p123 = mcnemar_test(18, 22, 6)\n",
    "p133 = mcnemar_test(25, 14, 6)\n",
    "print(\"\\n4\")\n",
    "p124 = mcnemar_test(33, 11, 6)\n",
    "p134 = mcnemar_test(35, 6, 6)"
   ]
  },
  {
   "cell_type": "code",
   "execution_count": 49,
   "metadata": {},
   "outputs": [
    {
     "data": {
      "image/png": "[encoded data removed]",
      "text/plain": [
       "<Figure size 1000x400 with 1 Axes>"
      ]
     },
     "metadata": {},
     "output_type": "display_data"
    }
   ],
   "source": [
    "# 17\n",
    "data = [\n",
    "    [0.0, 2.6, 2.8, 2.1, 0.8, 1.7, 3.9, 3.8, 4.1, 4.2],\n",
    "    [2.6, 0.0, 1.8, 2.3, 2.7, 1.4, 1.9, 1.7, 2.0, 2.2],\n",
    "    [2.8, 1.8, 0.0, 1.2, 2.9, 2.1, 2.2, 1.6, 2.3, 2.0],\n",
    "    [2.1, 2.3, 1.2, 0.0, 2.4, 1.8, 2.6, 2.5, 3.0, 2.9],\n",
    "    [0.8, 2.7, 2.9, 2.4, 0.0, 2.0, 4.2, 4.0, 4.4, 4.5],\n",
    "    [1.7, 1.4, 2.1, 1.8, 2.0, 0.0, 2.4, 2.6, 2.7, 3.0],\n",
    "    [3.9, 1.9, 2.2, 2.6, 4.2, 2.4, 0.0, 1.2, 0.6, 1.3],\n",
    "    [3.8, 1.7, 1.6, 2.5, 4.0, 2.6, 1.2, 0.0, 1.0, 0.6],\n",
    "    [4.1, 2.0, 2.3, 3.0, 4.4, 2.7, 0.6, 1.0, 0.0, 0.9],\n",
    "    [4.2, 2.2, 2.0, 2.9, 4.5, 3.0, 1.3, 0.6, 0.9, 0.0],\n",
    "]\n",
    "df = pd.DataFrame(data)\n",
    "draw_dendrogram_df(df, \"complete\")"
   ]
  },
  {
   "cell_type": "code",
   "execution_count": 58,
   "metadata": {},
   "outputs": [
    {
     "name": "stdout",
     "output_type": "stream",
     "text": [
      "-0.34657359027997253\n",
      "w[0]: 0.250000\n",
      "w[1]: 0.250000\n",
      "w[2]: 0.125000\n",
      "w[3]: 0.125000\n",
      "w[4]: 0.125000\n",
      "w[5]: 0.125000\n",
      "0.34657359027997275\n",
      "w[0]: 0.250000\n",
      "w[1]: 0.250000\n",
      "w[2]: 0.125000\n",
      "w[3]: 0.125000\n",
      "w[4]: 0.125000\n",
      "w[5]: 0.125000\n"
     ]
    }
   ],
   "source": [
    "# 18\n",
    "adaboost([0, 0, 1, 1, 1, 1], 1)\n",
    "miss = np.zeros(6)\n",
    "miss[:2] = 1\n",
    "adaboost(miss, 1)"
   ]
  },
  {
   "cell_type": "code",
   "execution_count": 21,
   "metadata": {},
   "outputs": [],
   "source": [
    "# 19"
   ]
  },
  {
   "cell_type": "code",
   "execution_count": 22,
   "metadata": {},
   "outputs": [],
   "source": [
    "# 20"
   ]
  },
  {
   "cell_type": "code",
   "execution_count": 61,
   "metadata": {},
   "outputs": [
    {
     "data": {
      "text/plain": [
       "6.0758853759588665e-09"
      ]
     },
     "execution_count": 61,
     "metadata": {},
     "output_type": "execute_result"
    }
   ],
   "source": [
    "# 21\n",
    "\n",
    "# EXAMPLE OF USE\n",
    "yval = []\n",
    "xval = []\n",
    "xtest = 2\n",
    "xtrain = [-3, -1, 5, 6]\n",
    "kde(xtrain, xtest, 0.5)"
   ]
  },
  {
   "cell_type": "code",
   "execution_count": 24,
   "metadata": {},
   "outputs": [],
   "source": [
    "# 22"
   ]
  },
  {
   "cell_type": "code",
   "execution_count": 25,
   "metadata": {},
   "outputs": [],
   "source": [
    "# 23"
   ]
  },
  {
   "cell_type": "code",
   "execution_count": 26,
   "metadata": {},
   "outputs": [],
   "source": [
    "# 24\n",
    "plot_roc()"
   ]
  },
  {
   "cell_type": "code",
   "execution_count": 27,
   "metadata": {},
   "outputs": [],
   "source": [
    "# 25"
   ]
  },
  {
   "cell_type": "code",
   "execution_count": 28,
   "metadata": {},
   "outputs": [],
   "source": [
    "# 26"
   ]
  },
  {
   "cell_type": "code",
   "execution_count": 29,
   "metadata": {},
   "outputs": [],
   "source": [
    "# 27"
   ]
  }
 ],
 "metadata": {
  "kernelspec": {
   "display_name": "Python 3",
   "language": "python",
   "name": "python3"
  },
  "language_info": {
   "codemirror_mode": {
    "name": "ipython",
    "version": 3
   },
   "file_extension": ".py",
   "mimetype": "text/x-python",
   "name": "python",
   "nbconvert_exporter": "python",
   "pygments_lexer": "ipython3",
   "version": "3.12.0"
  }
 },
 "nbformat": 4,
 "nbformat_minor": 2
}
