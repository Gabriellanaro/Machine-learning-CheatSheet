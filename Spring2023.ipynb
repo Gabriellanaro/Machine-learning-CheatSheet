{
 "cells": [
  {
   "cell_type": "code",
   "execution_count": 1,
   "metadata": {},
   "outputs": [],
   "source": [
    "from exam_functions import *\n",
    "import exam_toolbox as et\n",
    "import numpy as np"
   ]
  },
  {
   "cell_type": "code",
   "execution_count": 2,
   "metadata": {},
   "outputs": [],
   "source": [
    "# 1\n",
    "# A"
   ]
  },
  {
   "cell_type": "code",
   "execution_count": 3,
   "metadata": {},
   "outputs": [
    {
     "data": {
      "text/plain": [
       "0.1501962792285373"
      ]
     },
     "execution_count": 3,
     "metadata": {},
     "output_type": "execute_result"
    }
   ],
   "source": [
    "# 2\n",
    "# corr = cov(x,y) / ( var(x)*var(y) )\n",
    "0.88 / (1.55 * 3.78)"
   ]
  },
  {
   "cell_type": "code",
   "execution_count": 6,
   "metadata": {},
   "outputs": [],
   "source": [
    "# 3\n",
    "# Somme (delle componenti al quadrato) = norma di frobenius al quadrato"
   ]
  },
  {
   "cell_type": "code",
   "execution_count": 11,
   "metadata": {},
   "outputs": [
    {
     "name": "stdout",
     "output_type": "stream",
     "text": [
      "The density for observation O1 is 0.46875\n",
      "The average relative density for observation O1 is 0.6404962932454695\n"
     ]
    },
    {
     "data": {
      "text/plain": [
       "0.6404962932454695"
      ]
     },
     "execution_count": 11,
     "metadata": {},
     "output_type": "execute_result"
    }
   ],
   "source": [
    "# 5\n",
    "data = [\n",
    "    [0.0, 1.3, 4.1, 3.8, 4.5, 2.4, 3.2, 2.7, 3.0, 3.9],\n",
    "    [1.3, 0.0, 3.2, 3.1, 4.7, 2.3, 2.6, 2.2, 2.7, 4.2],\n",
    "    [4.1, 3.2, 0.0, 0.4, 4.9, 2.7, 1.1, 1.6, 2.4, 4.8],\n",
    "    [3.8, 3.1, 0.4, 0.0, 4.6, 2.5, 0.9, 1.3, 2.1, 4.5],\n",
    "    [4.5, 4.7, 4.9, 4.6, 0.0, 3.1, 4.4, 3.7, 2.8, 2.3],\n",
    "    [2.4, 2.3, 2.7, 2.5, 3.1, 0.0, 1.8, 1.2, 0.9, 2.8],\n",
    "    [3.2, 2.6, 1.1, 0.9, 4.4, 1.8, 0.0, 1.0, 1.7, 4.1],\n",
    "    [2.7, 2.2, 1.6, 1.3, 3.7, 1.2, 1.0, 0.0, 1.1, 3.6],\n",
    "    [3.0, 2.7, 2.4, 2.1, 2.8, 0.9, 1.7, 1.1, 0.0, 2.9],\n",
    "    [3.9, 4.2, 4.8, 4.5, 2.3, 2.8, 4.1, 3.6, 2.9, 0.0],\n",
    "]\n",
    "df = pd.DataFrame(data)\n",
    "\n",
    "ARD(df, 0, 3)"
   ]
  },
  {
   "cell_type": "code",
   "execution_count": 13,
   "metadata": {},
   "outputs": [
    {
     "data": {
      "text/plain": [
       "0.4444444444444444"
      ]
     },
     "execution_count": 13,
     "metadata": {},
     "output_type": "execute_result"
    }
   ],
   "source": [
    "# 7\n",
    "rand_index_clusters([0, 0, 0, 0, 1, 0, 0, 0, 0, 2], [0, 0, 0, 0, 1, 1, 1, 1, 1, 1])\n",
    "# B"
   ]
  },
  {
   "cell_type": "code",
   "execution_count": 18,
   "metadata": {},
   "outputs": [
    {
     "name": "stdout",
     "output_type": "stream",
     "text": [
      "0.4666666666666667\n",
      "0.4666666666666667\n"
     ]
    }
   ],
   "source": [
    "# 8\n",
    "Q = [1, 1, 1, 1, 1, 1, 1, 1, 1, 1]\n",
    "Z = [0, 0, 0, 0, 1, 1, 1, 1, 1, 1]\n",
    "print(rand_index_clusters(Q, Z))\n",
    "print(jaccard_clusters(Q, Z))\n",
    "# B"
   ]
  },
  {
   "cell_type": "code",
   "execution_count": 19,
   "metadata": {},
   "outputs": [
    {
     "name": "stderr",
     "output_type": "stream",
     "text": [
      "c:\\Users\\Dell\\AppData\\Local\\Programs\\Python\\Python312\\Lib\\site-packages\\sklearn\\cluster\\_kmeans.py:1416: FutureWarning: The default value of `n_init` will change from 10 to 'auto' in 1.4. Set the value of `n_init` explicitly to suppress the warning\n",
      "  super()._check_params_vs_input(X, default_n_init=10)\n",
      "c:\\Users\\Dell\\AppData\\Local\\Programs\\Python\\Python312\\Lib\\site-packages\\sklearn\\cluster\\_kmeans.py:1416: RuntimeWarning: Explicit initial center position passed: performing only one init in KMeans instead of n_init=10.\n",
      "  super()._check_params_vs_input(X, default_n_init=10)\n"
     ]
    },
    {
     "name": "stdout",
     "output_type": "stream",
     "text": [
      "PROBABLY INCORRECT DO IT BY HAND!\n",
      "The assigned clusters are: [0 0 1 1 1]\n",
      "The cluster centers of the converged k-means algortihm is: [ 3.5 11. ]\n"
     ]
    }
   ],
   "source": [
    "# 9\n",
    "kmeans_1d([2, 5, 8, 12, 13], 2, [4, 10])\n",
    "# A"
   ]
  },
  {
   "cell_type": "code",
   "execution_count": 24,
   "metadata": {},
   "outputs": [
    {
     "name": "stdout",
     "output_type": "stream",
     "text": [
      "p-val=0.73755\n",
      "difference in accuracy between M1 and M2 = -0.00709\n",
      "p-val=0.73755\n",
      "difference in accuracy between M1 and M2 = 0.00709\n"
     ]
    }
   ],
   "source": [
    "# 12\n",
    "p_ab = mcnemar_test(38, 42, 564)\n",
    "p_ac = mcnemar_test(42, 38, 564)\n",
    "# A"
   ]
  },
  {
   "cell_type": "code",
   "execution_count": 25,
   "metadata": {},
   "outputs": [],
   "source": [
    "# 13\n",
    "# A"
   ]
  },
  {
   "cell_type": "code",
   "execution_count": 26,
   "metadata": {},
   "outputs": [],
   "source": [
    "# 14\n",
    "# B"
   ]
  },
  {
   "cell_type": "code",
   "execution_count": 27,
   "metadata": {},
   "outputs": [],
   "source": [
    "# 15\n",
    "# B"
   ]
  },
  {
   "cell_type": "code",
   "execution_count": 28,
   "metadata": {},
   "outputs": [],
   "source": [
    "# 16\n",
    "# C"
   ]
  },
  {
   "cell_type": "code",
   "execution_count": 30,
   "metadata": {},
   "outputs": [
    {
     "data": {
      "text/plain": [
       "2460"
      ]
     },
     "execution_count": 30,
     "metadata": {},
     "output_type": "execute_result"
    }
   ],
   "source": [
    "# 17\n",
    "3 * (5 * 8 + 1) * 20\n",
    "# B"
   ]
  },
  {
   "cell_type": "code",
   "execution_count": null,
   "metadata": {},
   "outputs": [],
   "source": [
    "# 24\n",
    "adaboost(\n",
    "    [\n",
    "        0,\n",
    "        1,\n",
    "        1,\n",
    "        1,\n",
    "        0,\n",
    "    ]\n",
    ")"
   ]
  },
  {
   "cell_type": "code",
   "execution_count": 42,
   "metadata": {},
   "outputs": [
    {
     "name": "stderr",
     "output_type": "stream",
     "text": [
      "C:\\Users\\Dell\\AppData\\Local\\Temp\\ipykernel_10040\\1717787533.py:9: RuntimeWarning: divide by zero encountered in log\n",
      "  yval.append(-np.log(p))\n"
     ]
    },
    {
     "data": {
      "image/png": "[encoded data removed]",
      "text/plain": [
       "<Figure size 800x600 with 1 Axes>"
      ]
     },
     "metadata": {},
     "output_type": "display_data"
    }
   ],
   "source": [
    "# EXAMPLE OF USE\n",
    "yval = []\n",
    "xval = []\n",
    "xtest = [0, 2.5, -0.82]\n",
    "xtrain = [0, 2.5, -0.82]\n",
    "for sigma in np.arange(-100, 100, 0.1):\n",
    "    xval.append(sigma)\n",
    "    p = kde([2.5, -0.82], 0, sigma)\n",
    "    yval.append(-np.log(p))\n",
    "\n",
    "plt.figure(figsize=(8, 6))\n",
    "plt.plot(xval, yval, linestyle=\"-\", marker=\"o\", markersize=2)\n",
    "plt.xlabel(\"Sigma\")\n",
    "plt.ylabel(\"-log(P)\")\n",
    "plt.title(\"Kernel Density Estimation\")\n",
    "plt.yscale(\"log\")  # Using logarithmic scale for y-axis\n",
    "plt.grid(True)\n",
    "plt.show()"
   ]
  },
  {
   "cell_type": "code",
   "execution_count": null,
   "metadata": {},
   "outputs": [],
   "source": [
    "gmm_weighted_density()"
   ]
  }
 ],
 "metadata": {
  "kernelspec": {
   "display_name": "Python 3",
   "language": "python",
   "name": "python3"
  },
  "language_info": {
   "codemirror_mode": {
    "name": "ipython",
    "version": 3
   },
   "file_extension": ".py",
   "mimetype": "text/x-python",
   "name": "python",
   "nbconvert_exporter": "python",
   "pygments_lexer": "ipython3",
   "version": "3.12.0"
  }
 },
 "nbformat": 4,
 "nbformat_minor": 2
}
