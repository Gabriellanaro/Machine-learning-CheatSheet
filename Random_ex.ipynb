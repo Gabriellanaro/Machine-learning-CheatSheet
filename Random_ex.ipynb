{
 "cells": [
  {
   "cell_type": "code",
   "execution_count": 1,
   "metadata": {},
   "outputs": [],
   "source": [
    "from exam_functions import *\n",
    "import exam_toolbox as et\n",
    "import numpy as np"
   ]
  },
  {
   "cell_type": "code",
   "execution_count": 47,
   "metadata": {},
   "outputs": [],
   "source": [
    "def adaboost(delta, rounds=1, weights=None):\n",
    "    \"\"\"\n",
    "    Calculates AdaBoost using weights and considering the order of misclassified observations.\n",
    "\n",
    "    delta: list of misclassified observations, 0 = correctly classified, 1 = misclassified\n",
    "\n",
    "    rounds: int, the number of rounds to run, default is 1\n",
    "\n",
    "    weights: list of weights, default is 1/n\n",
    "\n",
    "    Returns:\n",
    "        alpha: the alpha of the classifier\n",
    "        weights: the updated weights\n",
    "    \"\"\"\n",
    "\n",
    "    delta = np.array(delta)\n",
    "    n = len(delta)\n",
    "    if weights is None:\n",
    "        weights = np.ones(n) / n\n",
    "\n",
    "    # Initialize error and alpha\n",
    "    error = np.sum(weights[delta == 1]) / np.sum(weights)\n",
    "    alpha = 0.5 * np.log((1 - error) / error)\n",
    "\n",
    "    # Iterate over rounds\n",
    "    for _ in range(rounds):\n",
    "        # Update weights\n",
    "        for idx, misclassified in enumerate(delta):\n",
    "            if misclassified == 1:\n",
    "                # Add weights of misclassified observations\n",
    "                for other_idx in np.where(delta == 1)[0]:\n",
    "                    if idx != other_idx:\n",
    "                        weights[idx] += weights[other_idx]\n",
    "\n",
    "        # Normalize weights\n",
    "        weights /= np.sum(weights)\n",
    "\n",
    "    return alpha, weights"
   ]
  },
  {
   "cell_type": "code",
   "execution_count": 52,
   "metadata": {},
   "outputs": [
    {
     "data": {
      "text/plain": [
       "(0.5084110714240822,\n",
       " array([0.02174518, 0.02174518, 0.12319177, 0.02174518, 0.19566024,\n",
       "        0.34059718, 0.02174518, 0.16227745, 0.06954748, 0.02174518]))"
      ]
     },
     "execution_count": 52,
     "metadata": {},
     "output_type": "execute_result"
    }
   ],
   "source": [
    "w = np.array(\n",
    "    [\n",
    "        [0.1000, 0.0714, 0.0469, 0.0319],\n",
    "        [0.1000, 0.0714, 0.0469, 0.0319],\n",
    "        [0.1000, 0.1667, 0.1094, 0.2059],\n",
    "        [0.1000, 0.0714, 0.0469, 0.0319],\n",
    "        [0.1000, 0.1667, 0.1094, 0.2059],\n",
    "        [0.1000, 0.0714, 0.0469, 0.0882],\n",
    "        [0.1000, 0.0714, 0.0469, 0.0319],\n",
    "        [0.1000, 0.1667, 0.3500, 0.2383],\n",
    "        [0.1000, 0.0714, 0.1500, 0.1021],\n",
    "        [0.1000, 0.0714, 0.0469, 0.0319],\n",
    "    ]\n",
    ")\n",
    "\n",
    "w1 = w[:, 0]\n",
    "w2 = w[:, 1]\n",
    "w3 = w[:, 2]\n",
    "w4 = w[:, 3]\n",
    "\n",
    "miss1 = [0, 0, 1, 0, 1, 0, 0, 1, 0, 0]\n",
    "miss2 = [0, 0, 0, 0, 0, 0, 0, 1, 1, 0]\n",
    "miss3 = [0, 0, 1, 0, 1, 1, 0, 0, 0, 0]\n",
    "miss4 = [0, 0, 1, 0, 0, 1, 0, 0, 0, 0]\n",
    "adaboost(miss3, weights=w3)"
   ]
  }
 ],
 "metadata": {
  "kernelspec": {
   "display_name": "Python 3",
   "language": "python",
   "name": "python3"
  },
  "language_info": {
   "codemirror_mode": {
    "name": "ipython",
    "version": 3
   },
   "file_extension": ".py",
   "mimetype": "text/x-python",
   "name": "python",
   "nbconvert_exporter": "python",
   "pygments_lexer": "ipython3",
   "version": "3.12.0"
  }
 },
 "nbformat": 4,
 "nbformat_minor": 2
}
